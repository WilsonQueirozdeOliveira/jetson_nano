{
 "cells": [
  {
   "cell_type": "markdown",
   "id": "a2611f84-6518-4a8e-812b-1c4dc58b0f1b",
   "metadata": {},
   "source": [
    "### video source: https://www.youtube.com/watch?v=VMj-3S1tku0"
   ]
  },
  {
   "cell_type": "markdown",
   "id": "4aac1150-e96c-4450-8e0d-a1534bdabbc6",
   "metadata": {},
   "source": [
    "### Import libraries"
   ]
  },
  {
   "cell_type": "code",
   "execution_count": 1,
   "id": "888eff0e-84da-460b-980f-4a3cb214526a",
   "metadata": {},
   "outputs": [],
   "source": [
    "import math\n",
    "import numpy as np\n",
    "import matplotlib.pyplot as plt\n",
    "%matplotlib inline"
   ]
  },
  {
   "cell_type": "markdown",
   "id": "e6b314ec-8f96-4d28-9c6b-334d9562423d",
   "metadata": {},
   "source": [
    "### Create a function of X  and return Y"
   ]
  },
  {
   "cell_type": "code",
   "execution_count": 2,
   "id": "cacd56a1-d14b-428a-b6d5-b92ada30af7d",
   "metadata": {},
   "outputs": [],
   "source": [
    "def f(x):\n",
    "    return 3*x**2 - 4*x + 5"
   ]
  },
  {
   "cell_type": "markdown",
   "id": "8943e0d0-e1a0-4325-bd4e-8007428606af",
   "metadata": {},
   "source": [
    "### run function of X = 3"
   ]
  },
  {
   "cell_type": "code",
   "execution_count": 3,
   "id": "e3ce4bc0-a150-4dcd-8d63-25a7ac4a709b",
   "metadata": {},
   "outputs": [
    {
     "data": {
      "text/plain": [
       "20.0"
      ]
     },
     "execution_count": 3,
     "metadata": {},
     "output_type": "execute_result"
    }
   ],
   "source": [
    "f(3.0)"
   ]
  },
  {
   "cell_type": "markdown",
   "id": "b2cb449f-b783-4dcc-ab25-9f5cb61d9dc2",
   "metadata": {},
   "source": [
    "### create xs data"
   ]
  },
  {
   "cell_type": "code",
   "execution_count": 4,
   "id": "0f5d63cd-4b07-4b32-abbb-9e97d2e30bae",
   "metadata": {},
   "outputs": [
    {
     "data": {
      "text/plain": [
       "array([-5.  , -4.75, -4.5 , -4.25, -4.  , -3.75, -3.5 , -3.25, -3.  ,\n",
       "       -2.75, -2.5 , -2.25, -2.  , -1.75, -1.5 , -1.25, -1.  , -0.75,\n",
       "       -0.5 , -0.25,  0.  ,  0.25,  0.5 ,  0.75,  1.  ,  1.25,  1.5 ,\n",
       "        1.75,  2.  ,  2.25,  2.5 ,  2.75,  3.  ,  3.25,  3.5 ,  3.75,\n",
       "        4.  ,  4.25,  4.5 ,  4.75])"
      ]
     },
     "execution_count": 4,
     "metadata": {},
     "output_type": "execute_result"
    }
   ],
   "source": [
    "xs = np.arange(-5, 5, 0.25)\n",
    "xs"
   ]
  },
  {
   "cell_type": "markdown",
   "id": "1cf4afd0-787e-49c7-b5e0-d7b9238425a3",
   "metadata": {},
   "source": [
    "### Show YS from function of X = XS"
   ]
  },
  {
   "cell_type": "code",
   "execution_count": 5,
   "id": "6c1d604c-8a79-4a8a-9bc6-c64e0db22a1b",
   "metadata": {},
   "outputs": [
    {
     "data": {
      "text/plain": [
       "array([100.    ,  91.6875,  83.75  ,  76.1875,  69.    ,  62.1875,\n",
       "        55.75  ,  49.6875,  44.    ,  38.6875,  33.75  ,  29.1875,\n",
       "        25.    ,  21.1875,  17.75  ,  14.6875,  12.    ,   9.6875,\n",
       "         7.75  ,   6.1875,   5.    ,   4.1875,   3.75  ,   3.6875,\n",
       "         4.    ,   4.6875,   5.75  ,   7.1875,   9.    ,  11.1875,\n",
       "        13.75  ,  16.6875,  20.    ,  23.6875,  27.75  ,  32.1875,\n",
       "        37.    ,  42.1875,  47.75  ,  53.6875])"
      ]
     },
     "execution_count": 5,
     "metadata": {},
     "output_type": "execute_result"
    }
   ],
   "source": [
    "ys = f(xs)\n",
    "ys"
   ]
  },
  {
   "cell_type": "markdown",
   "id": "8e9beba3-8d59-4726-8b4b-f2461f70cb8a",
   "metadata": {},
   "source": [
    "### Plot YS function of XS"
   ]
  },
  {
   "cell_type": "code",
   "execution_count": 6,
   "id": "866105d2-c53d-4d79-8a5f-3f9eade5c208",
   "metadata": {},
   "outputs": [
    {
     "data": {
      "text/plain": [
       "[<matplotlib.lines.Line2D at 0x16b7301a650>]"
      ]
     },
     "execution_count": 6,
     "metadata": {},
     "output_type": "execute_result"
    },
    {
     "data": {
      "image/png": "[encoded data removed]",
      "text/plain": [
       "<Figure size 640x480 with 1 Axes>"
      ]
     },
     "metadata": {},
     "output_type": "display_data"
    }
   ],
   "source": [
    "plt.plot(xs, ys)"
   ]
  },
  {
   "cell_type": "markdown",
   "id": "967c78c6-582b-4a81-932c-3fc433c7a81d",
   "metadata": {},
   "source": [
    "### Create h interval to derivative the function"
   ]
  },
  {
   "cell_type": "code",
   "execution_count": 12,
   "id": "0070145e-ec81-4173-beeb-c4c5d4c0490a",
   "metadata": {},
   "outputs": [],
   "source": [
    "h = 0.00000001\n",
    "x = 3.0"
   ]
  },
  {
   "cell_type": "code",
   "execution_count": 13,
   "id": "cb96b3ef-c45e-4a00-85d0-fde3e2d1f234",
   "metadata": {},
   "outputs": [
    {
     "data": {
      "text/plain": [
       "20.0"
      ]
     },
     "execution_count": 13,
     "metadata": {},
     "output_type": "execute_result"
    }
   ],
   "source": [
    "f(x)"
   ]
  },
  {
   "cell_type": "code",
   "execution_count": 14,
   "id": "1fad483e-9720-496f-a57e-05ebba10af75",
   "metadata": {},
   "outputs": [
    {
     "data": {
      "text/plain": [
       "20.00000014"
      ]
     },
     "execution_count": 14,
     "metadata": {},
     "output_type": "execute_result"
    }
   ],
   "source": [
    "f(x + h)"
   ]
  },
  {
   "cell_type": "markdown",
   "id": "e9dc7146-61ab-4aba-bfa4-868815bd121b",
   "metadata": {},
   "source": [
    "### delta f(x)2 - f(x)1:\n",
    "$\\Delta X = X2 - X1$ = $\\Delta X = f(x + h)-f(x)$"
   ]
  },
  {
   "cell_type": "code",
   "execution_count": 15,
   "id": "90a94ddf-b4a1-43fb-b5ef-7cad0198cb70",
   "metadata": {},
   "outputs": [
    {
     "data": {
      "text/plain": [
       "1.400000009255109e-07"
      ]
     },
     "execution_count": 15,
     "metadata": {},
     "output_type": "execute_result"
    }
   ],
   "source": [
    "f(x + h)-f(x)"
   ]
  },
  {
   "cell_type": "markdown",
   "id": "955b4390-9f59-4391-975c-5f68483fb9cd",
   "metadata": {},
   "source": [
    "### Derivate x = 3"
   ]
  },
  {
   "cell_type": "code",
   "execution_count": 16,
   "id": "b6f3ffdc-dc1d-478c-98ed-8c632949aaf8",
   "metadata": {},
   "outputs": [
    {
     "data": {
      "text/plain": [
       "14.00000009255109"
      ]
     },
     "execution_count": 16,
     "metadata": {},
     "output_type": "execute_result"
    }
   ],
   "source": [
    "(f(x + h)-f(x))/h"
   ]
  },
  {
   "cell_type": "markdown",
   "id": "fc4d6ce7-e5b9-4032-9fd0-bd8097d43b11",
   "metadata": {},
   "source": [
    "### Derivate x = -3"
   ]
  },
  {
   "cell_type": "code",
   "execution_count": 17,
   "id": "9f4c1f0e-cdb2-4433-9a1f-87262327dd31",
   "metadata": {},
   "outputs": [
    {
     "data": {
      "text/plain": [
       "-22.00000039920269"
      ]
     },
     "execution_count": 17,
     "metadata": {},
     "output_type": "execute_result"
    }
   ],
   "source": [
    "x = -3\n",
    "(f(x + h)-f(x))/h"
   ]
  },
  {
   "cell_type": "markdown",
   "id": "bac71868-1605-49d2-9a51-93f6e739b792",
   "metadata": {},
   "source": [
    "### Derivate x = 2/3"
   ]
  },
  {
   "cell_type": "code",
   "execution_count": 18,
   "id": "e56ec3ed-21f9-450b-a2ea-ebbde6cb4dd6",
   "metadata": {
    "tags": []
   },
   "outputs": [
    {
     "data": {
      "text/plain": [
       "0.0"
      ]
     },
     "execution_count": 18,
     "metadata": {},
     "output_type": "execute_result"
    }
   ],
   "source": [
    "x = 2/3\n",
    "(f(x + h)-f(x))/h"
   ]
  },
  {
   "cell_type": "markdown",
   "id": "4aa0d708-832a-481a-bbac-c8a0d4601b87",
   "metadata": {},
   "source": [
    "### lets get more complex"
   ]
  },
  {
   "cell_type": "code",
   "execution_count": 19,
   "id": "f3813efa-63d1-4039-8585-879b3e505afc",
   "metadata": {},
   "outputs": [
    {
     "name": "stdout",
     "output_type": "stream",
     "text": [
      "4.0\n"
     ]
    }
   ],
   "source": [
    "# les get more complex\n",
    "\n",
    "a = 2.0\n",
    "b = -3.0\n",
    "c = 10.0\n",
    "d = a*b + c\n",
    "\n",
    "print(d)"
   ]
  },
  {
   "cell_type": "markdown",
   "id": "bfb2879e-9bbc-4de0-a22d-c7322f1b40f0",
   "metadata": {},
   "source": [
    "### bump a = a+h"
   ]
  },
  {
   "cell_type": "code",
   "execution_count": 30,
   "id": "5cba139b-a786-4ad0-815a-9fbf3c779875",
   "metadata": {},
   "outputs": [
    {
     "name": "stdout",
     "output_type": "stream",
     "text": [
      "d1 4.0\n",
      "d2 3.999699999999999\n",
      "slope -3.000000000010772\n"
     ]
    }
   ],
   "source": [
    "h = 0.0001\n",
    "\n",
    "# inputs\n",
    "\n",
    "a = 2.0\n",
    "b = -3.0\n",
    "c = 10.0\n",
    "\n",
    "d1 = a*b+c\n",
    "\n",
    "a += h ### <---\n",
    "d2 = a*b + c\n",
    "\n",
    "print('d1', d1)\n",
    "print('d2', d2)\n",
    "\n",
    "print('slope', (d2 - d1)/h)\n"
   ]
  },
  {
   "cell_type": "markdown",
   "id": "65e79d49-9eb9-4476-92f2-c847572e61fe",
   "metadata": {},
   "source": [
    "### bump b = b+h"
   ]
  },
  {
   "cell_type": "code",
   "execution_count": 31,
   "id": "22fece53-c827-4793-8e45-9139022b5722",
   "metadata": {},
   "outputs": [
    {
     "name": "stdout",
     "output_type": "stream",
     "text": [
      "d1 4.0\n",
      "d2 4.0002\n",
      "slope 2.0000000000042206\n"
     ]
    }
   ],
   "source": [
    "h = 0.0001\n",
    "\n",
    "# inputs\n",
    "\n",
    "a = 2.0\n",
    "b = -3.0\n",
    "c = 10.0\n",
    "\n",
    "d1 = a*b+c\n",
    "\n",
    "b += h ### <---\n",
    "d2 = a*b + c\n",
    "\n",
    "print('d1', d1)\n",
    "print('d2', d2)\n",
    "\n",
    "print('slope', (d2 - d1)/h)"
   ]
  },
  {
   "cell_type": "markdown",
   "id": "dd9d5037-3419-41c1-b4d5-eb5952c5763c",
   "metadata": {},
   "source": [
    "### bump c = c+h"
   ]
  },
  {
   "cell_type": "code",
   "execution_count": 33,
   "id": "799d6356-fa6b-4771-9de4-877a92ea0673",
   "metadata": {},
   "outputs": [
    {
     "name": "stdout",
     "output_type": "stream",
     "text": [
      "d1 4.0\n",
      "d2 4.0001\n",
      "slope 0.9999999999976694\n"
     ]
    }
   ],
   "source": [
    "h = 0.0001\n",
    "\n",
    "# inputs\n",
    "\n",
    "a = 2.0\n",
    "b = -3.0\n",
    "c = 10.0\n",
    "\n",
    "d1 = a*b+c\n",
    "\n",
    "c += h ### <---\n",
    "d2 = a*b + c\n",
    "\n",
    "print('d1', d1)\n",
    "print('d2', d2)\n",
    "\n",
    "print('slope', (d2 - d1)/h)"
   ]
  },
  {
   "cell_type": "markdown",
   "id": "332c59d0-9b22-4c95-9822-2d4171ea23d3",
   "metadata": {},
   "source": [
    "### Value object"
   ]
  },
  {
   "cell_type": "code",
   "execution_count": 2,
   "id": "beb1ee37-5be1-4647-a65b-7fd68cb6e624",
   "metadata": {},
   "outputs": [
    {
     "data": {
      "text/plain": [
       "Value(data=2.0)"
      ]
     },
     "execution_count": 2,
     "metadata": {},
     "output_type": "execute_result"
    }
   ],
   "source": [
    "class Value:\n",
    "    \n",
    "    def __init__(self, data):\n",
    "        self.data = data\n",
    "        \n",
    "    def __repr__(self):\n",
    "        return f\"Value(data={self.data})\"\n",
    "    \n",
    "a = Value(2.0)"
   ]
  },
  {
   "cell_type": "code",
   "execution_count": 4,
   "id": "753c8759-2b34-40f8-8b1e-fe150f6f80fc",
   "metadata": {},
   "outputs": [
    {
     "data": {
      "text/plain": [
       "Value(data=-3.0)"
      ]
     },
     "execution_count": 4,
     "metadata": {},
     "output_type": "execute_result"
    }
   ],
   "source": [
    "b = Value(-3.0)\n",
    "b"
   ]
  },
  {
   "cell_type": "code",
   "execution_count": 5,
   "id": "4f20f212-f073-4fc6-9ca4-c903f1463485",
   "metadata": {},
   "outputs": [
    {
     "ename": "TypeError",
     "evalue": "unsupported operand type(s) for +: 'Value' and 'Value'",
     "output_type": "error",
     "traceback": [
      "\u001b[1;31m---------------------------------------------------------------------------\u001b[0m",
      "\u001b[1;31mTypeError\u001b[0m                                 Traceback (most recent call last)",
      "Cell \u001b[1;32mIn[5], line 1\u001b[0m\n\u001b[1;32m----> 1\u001b[0m \u001b[43ma\u001b[49m\u001b[38;5;241;43m+\u001b[39;49m\u001b[43mb\u001b[49m\n",
      "\u001b[1;31mTypeError\u001b[0m: unsupported operand type(s) for +: 'Value' and 'Value'"
     ]
    }
   ],
   "source": [
    "a+b"
   ]
  },
  {
   "cell_type": "markdown",
   "id": "5937acd3-b58b-4540-865d-12eb75c9a2b7",
   "metadata": {},
   "source": [
    "### Using special metodys __repr__ __add__  __mul__ to define operators (math with objects)"
   ]
  },
  {
   "cell_type": "code",
   "execution_count": 2,
   "id": "a4f28ac8-f6ef-4398-9552-6e60fc71dc40",
   "metadata": {},
   "outputs": [
    {
     "data": {
      "text/plain": [
       "Value(data=4.0)"
      ]
     },
     "execution_count": 2,
     "metadata": {},
     "output_type": "execute_result"
    }
   ],
   "source": [
    "class Value:\n",
    "    \n",
    "    def __init__(self, data, _children=(),_op=''):\n",
    "        self.data = data\n",
    "        self._prev = set(_children)\n",
    "        self._op = _op\n",
    "        \n",
    "    def __repr__(self):\n",
    "        return f\"Value(data={self.data})\"\n",
    "    \n",
    "    def __add__(self, other):\n",
    "        out = Value(self.data + other.data,(self,other),'+')\n",
    "        return out\n",
    "    \n",
    "    def __mul__(self, other):\n",
    "        out = Value(self.data * other.data,(self,other),'*')\n",
    "        return out\n",
    "    \n",
    "a = Value(2.0)\n",
    "b = Value(-3.0)\n",
    "c = Value(10.0)\n",
    "\n",
    "d = a*b+c\n",
    "d"
   ]
  },
  {
   "cell_type": "code",
   "execution_count": 5,
   "id": "31ae715a-c6a4-4f04-8d88-8ef7818edb13",
   "metadata": {},
   "outputs": [
    {
     "data": {
      "text/plain": [
       "{Value(data=-6.0), Value(data=10.0)}"
      ]
     },
     "execution_count": 5,
     "metadata": {},
     "output_type": "execute_result"
    }
   ],
   "source": [
    "d._prev"
   ]
  },
  {
   "cell_type": "code",
   "execution_count": 6,
   "id": "85804e80-f20b-443a-9d34-9899bbd0be3e",
   "metadata": {},
   "outputs": [
    {
     "data": {
      "text/plain": [
       "'+'"
      ]
     },
     "execution_count": 6,
     "metadata": {},
     "output_type": "execute_result"
    }
   ],
   "source": [
    "d._op"
   ]
  },
  {
   "cell_type": "markdown",
   "id": "541d16fe-7b64-4885-a4d4-5a087a7be3fe",
   "metadata": {},
   "source": [
    "### Visualisation"
   ]
  },
  {
   "cell_type": "code",
   "execution_count": 7,
   "id": "147734cf-3e7c-47f4-b65a-1ae806a646f1",
   "metadata": {},
   "outputs": [],
   "source": [
    "from graphviz import Digraph\n",
    "\n",
    "def trace(root):\n",
    "    #build a set of all nodes and edges in a graph\n",
    "    nodes, edges = set(), set()\n",
    "    def build(v):\n",
    "        if v not in nodes:\n",
    "            nodes.add(v)\n",
    "            for child in v._prev:\n",
    "                edges.add((child,v))\n",
    "                build(child)\n",
    "    build(root)\n",
    "    return nodes, edges\n",
    "\n",
    "def draw_dot(root):\n",
    "    dot = Digraph(format='svg', graph_attr={'rankdir': 'LR'}) # LR = left to right\n",
    "    \n",
    "    nodes, edges = trace(root)\n",
    "    for n in nodes:\n",
    "        uid = str(id(n))\n",
    "        # for any value in the graph, create a rectangular ('record') node for it\n",
    "        dot.node(name = uid, label = '{data %.4f}' % (n.data, ), shape='record')\n",
    "        if n._op:\n",
    "            # if this value is a result of some operation, create an op node for it\n",
    "            dot.node(name = uid + n._op, label = n._op)\n",
    "            # and connect ths node to it\n",
    "            dot.edge(uid + n._op, uid)\n",
    "        \n",
    "    for n1, n2 in edges:\n",
    "        # connect n1 to the op node fo n2\n",
    "        dot.edge(str(id(n1)), str(id(n2)) + n2._op)\n",
    "        \n",
    "    return dot"
   ]
  },
  {
   "cell_type": "code",
   "execution_count": 8,
   "id": "fb72f181-ac29-45ca-b8dc-de83ea7ee0e5",
   "metadata": {},
   "outputs": [
    {
     "name": "stdout",
     "output_type": "stream",
     "text": [
      "Value(data=4.0)\n",
      "{Value(data=10.0), Value(data=-6.0)}\n",
      "+\n"
     ]
    }
   ],
   "source": [
    "print(d)\n",
    "print(d._prev)\n",
    "print(d._op)"
   ]
  },
  {
   "cell_type": "code",
   "execution_count": 9,
   "id": "c97509d1-8e26-45da-a3e4-d5c92b6611f2",
   "metadata": {},
   "outputs": [
    {
     "data": {
      "image/svg+xml": [
       "<?xml version=\"1.0\" encoding=\"UTF-8\" standalone=\"no\"?>\n",
       "<!DOCTYPE svg PUBLIC \"-//W3C//DTD SVG 1.1//EN\"\n",
       " \"http://www.w3.org/Graphics/SVG/1.1/DTD/svg11.dtd\">\n",
       "<!-- Generated by graphviz version 7.0.6 (20230106.0513)\n",
       " -->\n",
       "<!-- Pages: 1 -->\n",
       "<svg width=\"515pt\" height=\"127pt\"\n",
       " viewBox=\"0.00 0.00 515.00 127.00\" xmlns=\"http://www.w3.org/2000/svg\" xmlns:xlink=\"http://www.w3.org/1999/xlink\">\n",
       "<g id=\"graph0\" class=\"graph\" transform=\"scale(1 1) rotate(0) translate(4 123)\">\n",
       "<polygon fill=\"white\" stroke=\"none\" points=\"-4,4 -4,-123 511,-123 511,4 -4,4\"/>\n",
       "<!-- 1468738958928 -->\n",
       "<g id=\"node1\" class=\"node\">\n",
       "<title>1468738958928</title>\n",
       "<polygon fill=\"none\" stroke=\"black\" points=\"213,-27.5 213,-63.5 299,-63.5 299,-27.5 213,-27.5\"/>\n",
       "<text text-anchor=\"middle\" x=\"256\" y=\"-41.8\" font-family=\"Times New Roman,serif\" font-size=\"14.00\">data &#45;6.0000</text>\n",
       "</g>\n",
       "<!-- 1468738958416+ -->\n",
       "<g id=\"node4\" class=\"node\">\n",
       "<title>1468738958416+</title>\n",
       "<ellipse fill=\"none\" stroke=\"black\" cx=\"363\" cy=\"-72.5\" rx=\"27\" ry=\"18\"/>\n",
       "<text text-anchor=\"middle\" x=\"363\" y=\"-68.8\" font-family=\"Times New Roman,serif\" font-size=\"14.00\">+</text>\n",
       "</g>\n",
       "<!-- 1468738958928&#45;&gt;1468738958416+ -->\n",
       "<g id=\"edge5\" class=\"edge\">\n",
       "<title>1468738958928&#45;&gt;1468738958416+</title>\n",
       "<path fill=\"none\" stroke=\"black\" d=\"M298.8,-56.25C307.87,-58.58 317.38,-61.03 326.19,-63.29\"/>\n",
       "<polygon fill=\"black\" stroke=\"black\" points=\"325.25,-66.66 335.81,-65.76 326.99,-59.88 325.25,-66.66\"/>\n",
       "</g>\n",
       "<!-- 1468738958928* -->\n",
       "<g id=\"node2\" class=\"node\">\n",
       "<title>1468738958928*</title>\n",
       "<ellipse fill=\"none\" stroke=\"black\" cx=\"149\" cy=\"-45.5\" rx=\"27\" ry=\"18\"/>\n",
       "<text text-anchor=\"middle\" x=\"149\" y=\"-41.8\" font-family=\"Times New Roman,serif\" font-size=\"14.00\">*</text>\n",
       "</g>\n",
       "<!-- 1468738958928*&#45;&gt;1468738958928 -->\n",
       "<g id=\"edge1\" class=\"edge\">\n",
       "<title>1468738958928*&#45;&gt;1468738958928</title>\n",
       "<path fill=\"none\" stroke=\"black\" d=\"M176.5,-45.5C184.36,-45.5 193.26,-45.5 202.17,-45.5\"/>\n",
       "<polygon fill=\"black\" stroke=\"black\" points=\"201.87,-49 211.87,-45.5 201.87,-42 201.87,-49\"/>\n",
       "</g>\n",
       "<!-- 1468738958416 -->\n",
       "<g id=\"node3\" class=\"node\">\n",
       "<title>1468738958416</title>\n",
       "<polygon fill=\"none\" stroke=\"black\" points=\"426,-54.5 426,-90.5 507,-90.5 507,-54.5 426,-54.5\"/>\n",
       "<text text-anchor=\"middle\" x=\"466.5\" y=\"-68.8\" font-family=\"Times New Roman,serif\" font-size=\"14.00\">data 4.0000</text>\n",
       "</g>\n",
       "<!-- 1468738958416+&#45;&gt;1468738958416 -->\n",
       "<g id=\"edge2\" class=\"edge\">\n",
       "<title>1468738958416+&#45;&gt;1468738958416</title>\n",
       "<path fill=\"none\" stroke=\"black\" d=\"M390.4,-72.5C397.91,-72.5 406.36,-72.5 414.8,-72.5\"/>\n",
       "<polygon fill=\"black\" stroke=\"black\" points=\"414.71,-76 424.71,-72.5 414.71,-69 414.71,-76\"/>\n",
       "</g>\n",
       "<!-- 1468738954512 -->\n",
       "<g id=\"node5\" class=\"node\">\n",
       "<title>1468738954512</title>\n",
       "<polygon fill=\"none\" stroke=\"black\" points=\"212,-82.5 212,-118.5 300,-118.5 300,-82.5 212,-82.5\"/>\n",
       "<text text-anchor=\"middle\" x=\"256\" y=\"-96.8\" font-family=\"Times New Roman,serif\" font-size=\"14.00\">data 10.0000</text>\n",
       "</g>\n",
       "<!-- 1468738954512&#45;&gt;1468738958416+ -->\n",
       "<g id=\"edge6\" class=\"edge\">\n",
       "<title>1468738954512&#45;&gt;1468738958416+</title>\n",
       "<path fill=\"none\" stroke=\"black\" d=\"M299.71,-89.11C308.63,-86.73 317.94,-84.25 326.57,-81.95\"/>\n",
       "<polygon fill=\"black\" stroke=\"black\" points=\"327.19,-85.4 335.95,-79.45 325.39,-78.64 327.19,-85.4\"/>\n",
       "</g>\n",
       "<!-- 1468733787920 -->\n",
       "<g id=\"node6\" class=\"node\">\n",
       "<title>1468733787920</title>\n",
       "<polygon fill=\"none\" stroke=\"black\" points=\"0,-55.5 0,-91.5 86,-91.5 86,-55.5 0,-55.5\"/>\n",
       "<text text-anchor=\"middle\" x=\"43\" y=\"-69.8\" font-family=\"Times New Roman,serif\" font-size=\"14.00\">data &#45;3.0000</text>\n",
       "</g>\n",
       "<!-- 1468733787920&#45;&gt;1468738958928* -->\n",
       "<g id=\"edge4\" class=\"edge\">\n",
       "<title>1468733787920&#45;&gt;1468738958928*</title>\n",
       "<path fill=\"none\" stroke=\"black\" d=\"M85.7,-62.27C94.58,-59.88 103.88,-57.38 112.5,-55.06\"/>\n",
       "<polygon fill=\"black\" stroke=\"black\" points=\"113.15,-58.51 121.89,-52.53 111.33,-51.75 113.15,-58.51\"/>\n",
       "</g>\n",
       "<!-- 1468738958096 -->\n",
       "<g id=\"node7\" class=\"node\">\n",
       "<title>1468738958096</title>\n",
       "<polygon fill=\"none\" stroke=\"black\" points=\"2.5,-0.5 2.5,-36.5 83.5,-36.5 83.5,-0.5 2.5,-0.5\"/>\n",
       "<text text-anchor=\"middle\" x=\"43\" y=\"-14.8\" font-family=\"Times New Roman,serif\" font-size=\"14.00\">data 2.0000</text>\n",
       "</g>\n",
       "<!-- 1468738958096&#45;&gt;1468738958928* -->\n",
       "<g id=\"edge3\" class=\"edge\">\n",
       "<title>1468738958096&#45;&gt;1468738958928*</title>\n",
       "<path fill=\"none\" stroke=\"black\" d=\"M83.32,-28.71C92.89,-31.19 103.07,-33.83 112.45,-36.27\"/>\n",
       "<polygon fill=\"black\" stroke=\"black\" points=\"111.38,-39.61 121.94,-38.73 113.14,-32.83 111.38,-39.61\"/>\n",
       "</g>\n",
       "</g>\n",
       "</svg>\n"
      ],
      "text/plain": [
       "<graphviz.graphs.Digraph at 0x155f7aa3d90>"
      ]
     },
     "execution_count": 9,
     "metadata": {},
     "output_type": "execute_result"
    }
   ],
   "source": [
    "draw_dot(d)"
   ]
  },
  {
   "cell_type": "code",
   "execution_count": 17,
   "id": "096c5cfd-110b-4e9c-8d20-a029f3b8a7b5",
   "metadata": {},
   "outputs": [
    {
     "data": {
      "image/svg+xml": [
       "<?xml version=\"1.0\" encoding=\"UTF-8\" standalone=\"no\"?>\n",
       "<!DOCTYPE svg PUBLIC \"-//W3C//DTD SVG 1.1//EN\"\n",
       " \"http://www.w3.org/Graphics/SVG/1.1/DTD/svg11.dtd\">\n",
       "<!-- Generated by graphviz version 7.0.6 (20230106.0513)\n",
       " -->\n",
       "<!-- Pages: 1 -->\n",
       "<svg width=\"89pt\" height=\"45pt\"\n",
       " viewBox=\"0.00 0.00 89.00 45.00\" xmlns=\"http://www.w3.org/2000/svg\" xmlns:xlink=\"http://www.w3.org/1999/xlink\">\n",
       "<g id=\"graph0\" class=\"graph\" transform=\"scale(1 1) rotate(0) translate(4 41)\">\n",
       "<polygon fill=\"white\" stroke=\"none\" points=\"-4,4 -4,-41 85,-41 85,4 -4,4\"/>\n",
       "<!-- 1468738958096 -->\n",
       "<g id=\"node1\" class=\"node\">\n",
       "<title>1468738958096</title>\n",
       "<polygon fill=\"none\" stroke=\"black\" points=\"0,-0.5 0,-36.5 81,-36.5 81,-0.5 0,-0.5\"/>\n",
       "<text text-anchor=\"middle\" x=\"40.5\" y=\"-14.8\" font-family=\"Times New Roman,serif\" font-size=\"14.00\">data 2.0000</text>\n",
       "</g>\n",
       "</g>\n",
       "</svg>\n"
      ],
      "text/plain": [
       "<graphviz.graphs.Digraph at 0x155f756df10>"
      ]
     },
     "execution_count": 17,
     "metadata": {},
     "output_type": "execute_result"
    }
   ],
   "source": [
    "draw_dot(a)"
   ]
  },
  {
   "cell_type": "markdown",
   "id": "22748960-50e7-4549-a5f5-bc4555988c9a",
   "metadata": {},
   "source": [
    "### Creating a label"
   ]
  },
  {
   "cell_type": "code",
   "execution_count": 2,
   "id": "cc5f136a-0a7f-4644-affd-0c8cbaa530be",
   "metadata": {},
   "outputs": [
    {
     "data": {
      "text/plain": [
       "Value(data=-8.0)"
      ]
     },
     "execution_count": 2,
     "metadata": {},
     "output_type": "execute_result"
    }
   ],
   "source": [
    "class Value:\n",
    "    \n",
    "    def __init__(self, data, _children=(),_op='',label=''):\n",
    "        self.data = data\n",
    "        self._prev = set(_children)\n",
    "        self._op = _op\n",
    "        self.label = label\n",
    "        \n",
    "    def __repr__(self):\n",
    "        return f\"Value(data={self.data})\"\n",
    "    \n",
    "    def __add__(self, other):\n",
    "        out = Value(self.data + other.data,(self,other),'+')\n",
    "        return out\n",
    "    \n",
    "    def __mul__(self, other):\n",
    "        out = Value(self.data * other.data,(self,other),'*')\n",
    "        return out\n",
    "    \n",
    "a = Value(2.0, label='a')\n",
    "b = Value(-3.0, label='b')\n",
    "c = Value(10.0, label='c')\n",
    "e = a*b; e.label= 'e'\n",
    "d = e+c; d.label = 'd'\n",
    "f = Value(-2.0, label='f')\n",
    "L = d*f; L.label = 'L'\n",
    "L"
   ]
  },
  {
   "cell_type": "markdown",
   "id": "66492f52-394c-488a-9985-b03d73012ea8",
   "metadata": {},
   "source": [
    "### Visualisation with label"
   ]
  },
  {
   "cell_type": "code",
   "execution_count": 3,
   "id": "a84eb108-ed75-42b8-891c-8a96297fbddb",
   "metadata": {},
   "outputs": [],
   "source": [
    "from graphviz import Digraph\n",
    "\n",
    "def trace(root):\n",
    "    #build a set of all nodes and edges in a graph\n",
    "    nodes, edges = set(), set()\n",
    "    def build(v):\n",
    "        if v not in nodes:\n",
    "            nodes.add(v)\n",
    "            for child in v._prev:\n",
    "                edges.add((child,v))\n",
    "                build(child)\n",
    "    build(root)\n",
    "    return nodes, edges\n",
    "\n",
    "def draw_dot(root):\n",
    "    dot = Digraph(format='svg', graph_attr={'rankdir': 'LR'}) # LR = left to right\n",
    "    \n",
    "    nodes, edges = trace(root)\n",
    "    for n in nodes:\n",
    "        uid = str(id(n))\n",
    "        # for any value in the graph, create a rectangular ('record') node for it\n",
    "        dot.node(name = uid, label = '{%s |data %.4f}' % (n.label, n.data, ), shape='record')\n",
    "        if n._op:\n",
    "            # if this value is a result of some operation, create an op node for it\n",
    "            dot.node(name = uid + n._op, label = n._op)\n",
    "            # and connect ths node to it\n",
    "            dot.edge(uid + n._op, uid)\n",
    "        \n",
    "    for n1, n2 in edges:\n",
    "        # connect n1 to the op node fo n2\n",
    "        dot.edge(str(id(n1)), str(id(n2)) + n2._op)\n",
    "        \n",
    "    return dot"
   ]
  },
  {
   "cell_type": "code",
   "execution_count": 28,
   "id": "a9f4a412-be65-43f7-be5a-0303d7851716",
   "metadata": {},
   "outputs": [
    {
     "data": {
      "image/svg+xml": [
       "<?xml version=\"1.0\" encoding=\"UTF-8\" standalone=\"no\"?>\n",
       "<!DOCTYPE svg PUBLIC \"-//W3C//DTD SVG 1.1//EN\"\n",
       " \"http://www.w3.org/Graphics/SVG/1.1/DTD/svg11.dtd\">\n",
       "<!-- Generated by graphviz version 7.0.6 (20230106.0513)\n",
       " -->\n",
       "<!-- Pages: 1 -->\n",
       "<svg width=\"825pt\" height=\"128pt\"\n",
       " viewBox=\"0.00 0.00 825.00 128.00\" xmlns=\"http://www.w3.org/2000/svg\" xmlns:xlink=\"http://www.w3.org/1999/xlink\">\n",
       "<g id=\"graph0\" class=\"graph\" transform=\"scale(1 1) rotate(0) translate(4 124)\">\n",
       "<polygon fill=\"white\" stroke=\"none\" points=\"-4,4 -4,-124 821,-124 821,4 -4,4\"/>\n",
       "<!-- 1468739006480 -->\n",
       "<g id=\"node1\" class=\"node\">\n",
       "<title>1468739006480</title>\n",
       "<polygon fill=\"none\" stroke=\"black\" points=\"473,-82.5 473,-118.5 580,-118.5 580,-82.5 473,-82.5\"/>\n",
       "<text text-anchor=\"middle\" x=\"483.5\" y=\"-96.8\" font-family=\"Times New Roman,serif\" font-size=\"14.00\">f</text>\n",
       "<polyline fill=\"none\" stroke=\"black\" points=\"494,-82.5 494,-118.5\"/>\n",
       "<text text-anchor=\"middle\" x=\"537\" y=\"-96.8\" font-family=\"Times New Roman,serif\" font-size=\"14.00\">data &#45;2.0000</text>\n",
       "</g>\n",
       "<!-- 1468739008976* -->\n",
       "<g id=\"node10\" class=\"node\">\n",
       "<title>1468739008976*</title>\n",
       "<ellipse fill=\"none\" stroke=\"black\" cx=\"643\" cy=\"-72.5\" rx=\"27\" ry=\"18\"/>\n",
       "<text text-anchor=\"middle\" x=\"643\" y=\"-68.8\" font-family=\"Times New Roman,serif\" font-size=\"14.00\">*</text>\n",
       "</g>\n",
       "<!-- 1468739006480&#45;&gt;1468739008976* -->\n",
       "<g id=\"edge6\" class=\"edge\">\n",
       "<title>1468739006480&#45;&gt;1468739008976*</title>\n",
       "<path fill=\"none\" stroke=\"black\" d=\"M579.72,-87.73C588.73,-85.53 597.89,-83.29 606.33,-81.22\"/>\n",
       "<polygon fill=\"black\" stroke=\"black\" points=\"606.94,-84.68 615.83,-78.9 605.28,-77.88 606.94,-84.68\"/>\n",
       "</g>\n",
       "<!-- 1468739004560 -->\n",
       "<g id=\"node2\" class=\"node\">\n",
       "<title>1468739004560</title>\n",
       "<polygon fill=\"none\" stroke=\"black\" points=\"237,-55.5 237,-91.5 346,-91.5 346,-55.5 237,-55.5\"/>\n",
       "<text text-anchor=\"middle\" x=\"248.5\" y=\"-69.8\" font-family=\"Times New Roman,serif\" font-size=\"14.00\">e</text>\n",
       "<polyline fill=\"none\" stroke=\"black\" points=\"260,-55.5 260,-91.5\"/>\n",
       "<text text-anchor=\"middle\" x=\"303\" y=\"-69.8\" font-family=\"Times New Roman,serif\" font-size=\"14.00\">data &#45;6.0000</text>\n",
       "</g>\n",
       "<!-- 1468700815120+ -->\n",
       "<g id=\"node7\" class=\"node\">\n",
       "<title>1468700815120+</title>\n",
       "<ellipse fill=\"none\" stroke=\"black\" cx=\"410\" cy=\"-45.5\" rx=\"27\" ry=\"18\"/>\n",
       "<text text-anchor=\"middle\" x=\"410\" y=\"-41.8\" font-family=\"Times New Roman,serif\" font-size=\"14.00\">+</text>\n",
       "</g>\n",
       "<!-- 1468739004560&#45;&gt;1468700815120+ -->\n",
       "<g id=\"edge4\" class=\"edge\">\n",
       "<title>1468739004560&#45;&gt;1468700815120+</title>\n",
       "<path fill=\"none\" stroke=\"black\" d=\"M345.98,-60.65C355.11,-58.45 364.39,-56.22 372.93,-54.17\"/>\n",
       "<polygon fill=\"black\" stroke=\"black\" points=\"373.65,-57.6 382.56,-51.86 372.02,-50.79 373.65,-57.6\"/>\n",
       "</g>\n",
       "<!-- 1468739004560* -->\n",
       "<g id=\"node3\" class=\"node\">\n",
       "<title>1468739004560*</title>\n",
       "<ellipse fill=\"none\" stroke=\"black\" cx=\"173\" cy=\"-73.5\" rx=\"27\" ry=\"18\"/>\n",
       "<text text-anchor=\"middle\" x=\"173\" y=\"-69.8\" font-family=\"Times New Roman,serif\" font-size=\"14.00\">*</text>\n",
       "</g>\n",
       "<!-- 1468739004560*&#45;&gt;1468739004560 -->\n",
       "<g id=\"edge1\" class=\"edge\">\n",
       "<title>1468739004560*&#45;&gt;1468739004560</title>\n",
       "<path fill=\"none\" stroke=\"black\" d=\"M200.44,-73.5C208.08,-73.5 216.78,-73.5 225.69,-73.5\"/>\n",
       "<polygon fill=\"black\" stroke=\"black\" points=\"225.51,-77 235.51,-73.5 225.51,-70 225.51,-77\"/>\n",
       "</g>\n",
       "<!-- 1468739006928 -->\n",
       "<g id=\"node4\" class=\"node\">\n",
       "<title>1468739006928</title>\n",
       "<polygon fill=\"none\" stroke=\"black\" points=\"3,-83.5 3,-119.5 107,-119.5 107,-83.5 3,-83.5\"/>\n",
       "<text text-anchor=\"middle\" x=\"14.5\" y=\"-97.8\" font-family=\"Times New Roman,serif\" font-size=\"14.00\">a</text>\n",
       "<polyline fill=\"none\" stroke=\"black\" points=\"26,-83.5 26,-119.5\"/>\n",
       "<text text-anchor=\"middle\" x=\"66.5\" y=\"-97.8\" font-family=\"Times New Roman,serif\" font-size=\"14.00\">data 2.0000</text>\n",
       "</g>\n",
       "<!-- 1468739006928&#45;&gt;1468739004560* -->\n",
       "<g id=\"edge7\" class=\"edge\">\n",
       "<title>1468739006928&#45;&gt;1468739004560*</title>\n",
       "<path fill=\"none\" stroke=\"black\" d=\"M106.88,-89.22C116.72,-86.84 126.85,-84.4 136.09,-82.17\"/>\n",
       "<polygon fill=\"black\" stroke=\"black\" points=\"136.87,-85.58 145.77,-79.83 135.23,-78.78 136.87,-85.58\"/>\n",
       "</g>\n",
       "<!-- 1468739005648 -->\n",
       "<g id=\"node5\" class=\"node\">\n",
       "<title>1468739005648</title>\n",
       "<polygon fill=\"none\" stroke=\"black\" points=\"0,-28.5 0,-64.5 110,-64.5 110,-28.5 0,-28.5\"/>\n",
       "<text text-anchor=\"middle\" x=\"12\" y=\"-42.8\" font-family=\"Times New Roman,serif\" font-size=\"14.00\">b</text>\n",
       "<polyline fill=\"none\" stroke=\"black\" points=\"24,-28.5 24,-64.5\"/>\n",
       "<text text-anchor=\"middle\" x=\"67\" y=\"-42.8\" font-family=\"Times New Roman,serif\" font-size=\"14.00\">data &#45;3.0000</text>\n",
       "</g>\n",
       "<!-- 1468739005648&#45;&gt;1468739004560* -->\n",
       "<g id=\"edge9\" class=\"edge\">\n",
       "<title>1468739005648&#45;&gt;1468739004560*</title>\n",
       "<path fill=\"none\" stroke=\"black\" d=\"M109.92,-59.05C118.77,-61.11 127.75,-63.2 136.02,-65.12\"/>\n",
       "<polygon fill=\"black\" stroke=\"black\" points=\"135.15,-68.52 145.69,-67.38 136.74,-61.7 135.15,-68.52\"/>\n",
       "</g>\n",
       "<!-- 1468700815120 -->\n",
       "<g id=\"node6\" class=\"node\">\n",
       "<title>1468700815120</title>\n",
       "<polygon fill=\"none\" stroke=\"black\" points=\"474,-27.5 474,-63.5 579,-63.5 579,-27.5 474,-27.5\"/>\n",
       "<text text-anchor=\"middle\" x=\"486\" y=\"-41.8\" font-family=\"Times New Roman,serif\" font-size=\"14.00\">d</text>\n",
       "<polyline fill=\"none\" stroke=\"black\" points=\"498,-27.5 498,-63.5\"/>\n",
       "<text text-anchor=\"middle\" x=\"538.5\" y=\"-41.8\" font-family=\"Times New Roman,serif\" font-size=\"14.00\">data 4.0000</text>\n",
       "</g>\n",
       "<!-- 1468700815120&#45;&gt;1468739008976* -->\n",
       "<g id=\"edge8\" class=\"edge\">\n",
       "<title>1468700815120&#45;&gt;1468739008976*</title>\n",
       "<path fill=\"none\" stroke=\"black\" d=\"M578.72,-57.58C588,-59.77 597.48,-62 606.2,-64.06\"/>\n",
       "<polygon fill=\"black\" stroke=\"black\" points=\"605.11,-67.4 615.65,-66.29 606.72,-60.58 605.11,-67.4\"/>\n",
       "</g>\n",
       "<!-- 1468700815120+&#45;&gt;1468700815120 -->\n",
       "<g id=\"edge2\" class=\"edge\">\n",
       "<title>1468700815120+&#45;&gt;1468700815120</title>\n",
       "<path fill=\"none\" stroke=\"black\" d=\"M437.27,-45.5C444.97,-45.5 453.75,-45.5 462.71,-45.5\"/>\n",
       "<polygon fill=\"black\" stroke=\"black\" points=\"462.58,-49 472.58,-45.5 462.58,-42 462.58,-49\"/>\n",
       "</g>\n",
       "<!-- 1468739006800 -->\n",
       "<g id=\"node8\" class=\"node\">\n",
       "<title>1468739006800</title>\n",
       "<polygon fill=\"none\" stroke=\"black\" points=\"236,-0.5 236,-36.5 347,-36.5 347,-0.5 236,-0.5\"/>\n",
       "<text text-anchor=\"middle\" x=\"247.5\" y=\"-14.8\" font-family=\"Times New Roman,serif\" font-size=\"14.00\">c</text>\n",
       "<polyline fill=\"none\" stroke=\"black\" points=\"259,-0.5 259,-36.5\"/>\n",
       "<text text-anchor=\"middle\" x=\"303\" y=\"-14.8\" font-family=\"Times New Roman,serif\" font-size=\"14.00\">data 10.0000</text>\n",
       "</g>\n",
       "<!-- 1468739006800&#45;&gt;1468700815120+ -->\n",
       "<g id=\"edge5\" class=\"edge\">\n",
       "<title>1468739006800&#45;&gt;1468700815120+</title>\n",
       "<path fill=\"none\" stroke=\"black\" d=\"M347,-31.13C355.77,-33.16 364.66,-35.22 372.86,-37.12\"/>\n",
       "<polygon fill=\"black\" stroke=\"black\" points=\"371.91,-40.5 382.44,-39.35 373.49,-33.68 371.91,-40.5\"/>\n",
       "</g>\n",
       "<!-- 1468739008976 -->\n",
       "<g id=\"node9\" class=\"node\">\n",
       "<title>1468739008976</title>\n",
       "<polygon fill=\"none\" stroke=\"black\" points=\"706,-54.5 706,-90.5 817,-90.5 817,-54.5 706,-54.5\"/>\n",
       "<text text-anchor=\"middle\" x=\"718.5\" y=\"-68.8\" font-family=\"Times New Roman,serif\" font-size=\"14.00\">L</text>\n",
       "<polyline fill=\"none\" stroke=\"black\" points=\"731,-54.5 731,-90.5\"/>\n",
       "<text text-anchor=\"middle\" x=\"774\" y=\"-68.8\" font-family=\"Times New Roman,serif\" font-size=\"14.00\">data &#45;8.0000</text>\n",
       "</g>\n",
       "<!-- 1468739008976*&#45;&gt;1468739008976 -->\n",
       "<g id=\"edge3\" class=\"edge\">\n",
       "<title>1468739008976*&#45;&gt;1468739008976</title>\n",
       "<path fill=\"none\" stroke=\"black\" d=\"M670.44,-72.5C677.81,-72.5 686.17,-72.5 694.75,-72.5\"/>\n",
       "<polygon fill=\"black\" stroke=\"black\" points=\"694.57,-76 704.57,-72.5 694.57,-69 694.57,-76\"/>\n",
       "</g>\n",
       "</g>\n",
       "</svg>\n"
      ],
      "text/plain": [
       "<graphviz.graphs.Digraph at 0x155f75d8190>"
      ]
     },
     "execution_count": 28,
     "metadata": {},
     "output_type": "execute_result"
    }
   ],
   "source": [
    "draw_dot(L)"
   ]
  },
  {
   "cell_type": "markdown",
   "id": "1bd6c56d-9623-4496-aebe-ba984ecf1ed1",
   "metadata": {},
   "source": [
    "### Creating grad to store the gradient relative to the output"
   ]
  },
  {
   "cell_type": "code",
   "execution_count": 4,
   "id": "8084f23c-8ed2-4b77-8f75-8d3604315ce6",
   "metadata": {},
   "outputs": [
    {
     "data": {
      "text/plain": [
       "Value(data=-8.0)"
      ]
     },
     "execution_count": 4,
     "metadata": {},
     "output_type": "execute_result"
    }
   ],
   "source": [
    "class Value:\n",
    "    \n",
    "    def __init__(self, data, _children=(),_op='',label=''):\n",
    "        self.data = data\n",
    "        self.grad = 0.0\n",
    "        self._prev = set(_children)\n",
    "        self._op = _op\n",
    "        self.label = label\n",
    "        \n",
    "    def __repr__(self):\n",
    "        return f\"Value(data={self.data})\"\n",
    "    \n",
    "    def __add__(self, other):\n",
    "        out = Value(self.data + other.data,(self,other),'+')\n",
    "        return out\n",
    "    \n",
    "    def __mul__(self, other):\n",
    "        out = Value(self.data * other.data,(self,other),'*')\n",
    "        return out\n",
    "    \n",
    "a = Value(2.0, label='a')\n",
    "b = Value(-3.0, label='b')\n",
    "c = Value(10.0, label='c')\n",
    "e = a*b; e.label= 'e'\n",
    "d = e+c; d.label = 'd'\n",
    "f = Value(-2.0, label='f')\n",
    "L = d*f; L.label = 'L'\n",
    "L"
   ]
  },
  {
   "cell_type": "markdown",
   "id": "4fa99197-38ce-4456-bee6-43597eb50ea7",
   "metadata": {},
   "source": [
    "### Show grad on grapf"
   ]
  },
  {
   "cell_type": "code",
   "execution_count": 5,
   "id": "e69cd155-a07c-41f8-a826-d572342544a3",
   "metadata": {},
   "outputs": [],
   "source": [
    "from graphviz import Digraph\n",
    "\n",
    "def trace(root):\n",
    "    #build a set of all nodes and edges in a graph\n",
    "    nodes, edges = set(), set()\n",
    "    def build(v):\n",
    "        if v not in nodes:\n",
    "            nodes.add(v)\n",
    "            for child in v._prev:\n",
    "                edges.add((child,v))\n",
    "                build(child)\n",
    "    build(root)\n",
    "    return nodes, edges\n",
    "\n",
    "def draw_dot(root):\n",
    "    dot = Digraph(format='svg', graph_attr={'rankdir': 'LR'}) # LR = left to right\n",
    "    \n",
    "    nodes, edges = trace(root)\n",
    "    for n in nodes:\n",
    "        uid = str(id(n))\n",
    "        # for any value in the graph, create a rectangular ('record') node for it\n",
    "        dot.node(name = uid, label = '{%s |data %.4f| grad %.4f}' % (n.label, n.data, n.grad), shape='record')\n",
    "        if n._op:\n",
    "            # if this value is a result of some operation, create an op node for it\n",
    "            dot.node(name = uid + n._op, label = n._op)\n",
    "            # and connect ths node to it\n",
    "            dot.edge(uid + n._op, uid)\n",
    "        \n",
    "    for n1, n2 in edges:\n",
    "        # connect n1 to the op node fo n2\n",
    "        dot.edge(str(id(n1)), str(id(n2)) + n2._op)\n",
    "        \n",
    "    return dot"
   ]
  },
  {
   "cell_type": "code",
   "execution_count": 6,
   "id": "43bf8d80-fef6-474b-a6eb-3405ad2f891e",
   "metadata": {},
   "outputs": [
    {
     "data": {
      "image/svg+xml": [
       "<?xml version=\"1.0\" encoding=\"UTF-8\" standalone=\"no\"?>\n",
       "<!DOCTYPE svg PUBLIC \"-//W3C//DTD SVG 1.1//EN\"\n",
       " \"http://www.w3.org/Graphics/SVG/1.1/DTD/svg11.dtd\">\n",
       "<!-- Generated by graphviz version 7.0.6 (20230106.0513)\n",
       " -->\n",
       "<!-- Pages: 1 -->\n",
       "<svg width=\"1157pt\" height=\"156pt\"\n",
       " viewBox=\"0.00 0.00 1157.00 156.00\" xmlns=\"http://www.w3.org/2000/svg\" xmlns:xlink=\"http://www.w3.org/1999/xlink\">\n",
       "<g id=\"graph0\" class=\"graph\" transform=\"scale(1 1) rotate(0) translate(4 152)\">\n",
       "<polygon fill=\"white\" stroke=\"none\" points=\"-4,4 -4,-152 1153,-152 1153,4 -4,4\"/>\n",
       "<!-- 2049343517136 -->\n",
       "<g id=\"node1\" class=\"node\">\n",
       "<title>2049343517136</title>\n",
       "<polygon fill=\"none\" stroke=\"black\" points=\"0,-111.5 0,-147.5 193,-147.5 193,-111.5 0,-111.5\"/>\n",
       "<text text-anchor=\"middle\" x=\"12\" y=\"-125.8\" font-family=\"Times New Roman,serif\" font-size=\"14.00\">b</text>\n",
       "<polyline fill=\"none\" stroke=\"black\" points=\"24,-111.5 24,-147.5\"/>\n",
       "<text text-anchor=\"middle\" x=\"67\" y=\"-125.8\" font-family=\"Times New Roman,serif\" font-size=\"14.00\">data &#45;3.0000</text>\n",
       "<polyline fill=\"none\" stroke=\"black\" points=\"110,-111.5 110,-147.5\"/>\n",
       "<text text-anchor=\"middle\" x=\"151.5\" y=\"-125.8\" font-family=\"Times New Roman,serif\" font-size=\"14.00\">grad 0.0000</text>\n",
       "</g>\n",
       "<!-- 2049343516112* -->\n",
       "<g id=\"node10\" class=\"node\">\n",
       "<title>2049343516112*</title>\n",
       "<ellipse fill=\"none\" stroke=\"black\" cx=\"256\" cy=\"-101.5\" rx=\"27\" ry=\"18\"/>\n",
       "<text text-anchor=\"middle\" x=\"256\" y=\"-97.8\" font-family=\"Times New Roman,serif\" font-size=\"14.00\">*</text>\n",
       "</g>\n",
       "<!-- 2049343517136&#45;&gt;2049343516112* -->\n",
       "<g id=\"edge8\" class=\"edge\">\n",
       "<title>2049343517136&#45;&gt;2049343516112*</title>\n",
       "<path fill=\"none\" stroke=\"black\" d=\"M192.75,-112.57C201.7,-110.98 210.35,-109.44 218.21,-108.04\"/>\n",
       "<polygon fill=\"black\" stroke=\"black\" points=\"218.75,-111.5 227.99,-106.3 217.53,-104.61 218.75,-111.5\"/>\n",
       "</g>\n",
       "<!-- 2049343518672 -->\n",
       "<g id=\"node2\" class=\"node\">\n",
       "<title>2049343518672</title>\n",
       "<polygon fill=\"none\" stroke=\"black\" points=\"319,-28.5 319,-64.5 513,-64.5 513,-28.5 319,-28.5\"/>\n",
       "<text text-anchor=\"middle\" x=\"330.5\" y=\"-42.8\" font-family=\"Times New Roman,serif\" font-size=\"14.00\">c</text>\n",
       "<polyline fill=\"none\" stroke=\"black\" points=\"342,-28.5 342,-64.5\"/>\n",
       "<text text-anchor=\"middle\" x=\"386\" y=\"-42.8\" font-family=\"Times New Roman,serif\" font-size=\"14.00\">data 10.0000</text>\n",
       "<polyline fill=\"none\" stroke=\"black\" points=\"430,-28.5 430,-64.5\"/>\n",
       "<text text-anchor=\"middle\" x=\"471.5\" y=\"-42.8\" font-family=\"Times New Roman,serif\" font-size=\"14.00\">grad 0.0000</text>\n",
       "</g>\n",
       "<!-- 2049343518992+ -->\n",
       "<g id=\"node6\" class=\"node\">\n",
       "<title>2049343518992+</title>\n",
       "<ellipse fill=\"none\" stroke=\"black\" cx=\"576\" cy=\"-73.5\" rx=\"27\" ry=\"18\"/>\n",
       "<text text-anchor=\"middle\" x=\"576\" y=\"-69.8\" font-family=\"Times New Roman,serif\" font-size=\"14.00\">+</text>\n",
       "</g>\n",
       "<!-- 2049343518672&#45;&gt;2049343518992+ -->\n",
       "<g id=\"edge7\" class=\"edge\">\n",
       "<title>2049343518672&#45;&gt;2049343518992+</title>\n",
       "<path fill=\"none\" stroke=\"black\" d=\"M512.55,-62.83C521.53,-64.36 530.21,-65.85 538.1,-67.19\"/>\n",
       "<polygon fill=\"black\" stroke=\"black\" points=\"537.46,-70.63 547.9,-68.87 538.64,-63.73 537.46,-70.63\"/>\n",
       "</g>\n",
       "<!-- 2049343515344 -->\n",
       "<g id=\"node3\" class=\"node\">\n",
       "<title>2049343515344</title>\n",
       "<polygon fill=\"none\" stroke=\"black\" points=\"3,-56.5 3,-92.5 190,-92.5 190,-56.5 3,-56.5\"/>\n",
       "<text text-anchor=\"middle\" x=\"14.5\" y=\"-70.8\" font-family=\"Times New Roman,serif\" font-size=\"14.00\">a</text>\n",
       "<polyline fill=\"none\" stroke=\"black\" points=\"26,-56.5 26,-92.5\"/>\n",
       "<text text-anchor=\"middle\" x=\"66.5\" y=\"-70.8\" font-family=\"Times New Roman,serif\" font-size=\"14.00\">data 2.0000</text>\n",
       "<polyline fill=\"none\" stroke=\"black\" points=\"107,-56.5 107,-92.5\"/>\n",
       "<text text-anchor=\"middle\" x=\"148.5\" y=\"-70.8\" font-family=\"Times New Roman,serif\" font-size=\"14.00\">grad 0.0000</text>\n",
       "</g>\n",
       "<!-- 2049343515344&#45;&gt;2049343516112* -->\n",
       "<g id=\"edge6\" class=\"edge\">\n",
       "<title>2049343515344&#45;&gt;2049343516112*</title>\n",
       "<path fill=\"none\" stroke=\"black\" d=\"M189.57,-90.28C199.66,-92.01 209.45,-93.69 218.25,-95.2\"/>\n",
       "<polygon fill=\"black\" stroke=\"black\" points=\"217.63,-98.65 228.08,-96.89 218.82,-91.75 217.63,-98.65\"/>\n",
       "</g>\n",
       "<!-- 2049343518928 -->\n",
       "<g id=\"node4\" class=\"node\">\n",
       "<title>2049343518928</title>\n",
       "<polygon fill=\"none\" stroke=\"black\" points=\"639,-0.5 639,-36.5 829,-36.5 829,-0.5 639,-0.5\"/>\n",
       "<text text-anchor=\"middle\" x=\"649.5\" y=\"-14.8\" font-family=\"Times New Roman,serif\" font-size=\"14.00\">f</text>\n",
       "<polyline fill=\"none\" stroke=\"black\" points=\"660,-0.5 660,-36.5\"/>\n",
       "<text text-anchor=\"middle\" x=\"703\" y=\"-14.8\" font-family=\"Times New Roman,serif\" font-size=\"14.00\">data &#45;2.0000</text>\n",
       "<polyline fill=\"none\" stroke=\"black\" points=\"746,-0.5 746,-36.5\"/>\n",
       "<text text-anchor=\"middle\" x=\"787.5\" y=\"-14.8\" font-family=\"Times New Roman,serif\" font-size=\"14.00\">grad 0.0000</text>\n",
       "</g>\n",
       "<!-- 2049343519056* -->\n",
       "<g id=\"node8\" class=\"node\">\n",
       "<title>2049343519056*</title>\n",
       "<ellipse fill=\"none\" stroke=\"black\" cx=\"892\" cy=\"-45.5\" rx=\"27\" ry=\"18\"/>\n",
       "<text text-anchor=\"middle\" x=\"892\" y=\"-41.8\" font-family=\"Times New Roman,serif\" font-size=\"14.00\">*</text>\n",
       "</g>\n",
       "<!-- 2049343518928&#45;&gt;2049343519056* -->\n",
       "<g id=\"edge9\" class=\"edge\">\n",
       "<title>2049343518928&#45;&gt;2049343519056*</title>\n",
       "<path fill=\"none\" stroke=\"black\" d=\"M828.9,-34.75C837.81,-36.29 846.43,-37.79 854.28,-39.14\"/>\n",
       "<polygon fill=\"black\" stroke=\"black\" points=\"853.57,-42.57 864.02,-40.83 854.76,-35.68 853.57,-42.57\"/>\n",
       "</g>\n",
       "<!-- 2049343518992 -->\n",
       "<g id=\"node5\" class=\"node\">\n",
       "<title>2049343518992</title>\n",
       "<polygon fill=\"none\" stroke=\"black\" points=\"640,-55.5 640,-91.5 828,-91.5 828,-55.5 640,-55.5\"/>\n",
       "<text text-anchor=\"middle\" x=\"652\" y=\"-69.8\" font-family=\"Times New Roman,serif\" font-size=\"14.00\">d</text>\n",
       "<polyline fill=\"none\" stroke=\"black\" points=\"664,-55.5 664,-91.5\"/>\n",
       "<text text-anchor=\"middle\" x=\"704.5\" y=\"-69.8\" font-family=\"Times New Roman,serif\" font-size=\"14.00\">data 4.0000</text>\n",
       "<polyline fill=\"none\" stroke=\"black\" points=\"745,-55.5 745,-91.5\"/>\n",
       "<text text-anchor=\"middle\" x=\"786.5\" y=\"-69.8\" font-family=\"Times New Roman,serif\" font-size=\"14.00\">grad 0.0000</text>\n",
       "</g>\n",
       "<!-- 2049343518992&#45;&gt;2049343519056* -->\n",
       "<g id=\"edge4\" class=\"edge\">\n",
       "<title>2049343518992&#45;&gt;2049343519056*</title>\n",
       "<path fill=\"none\" stroke=\"black\" d=\"M828,-56.81C837.2,-55.16 846.12,-53.56 854.21,-52.1\"/>\n",
       "<polygon fill=\"black\" stroke=\"black\" points=\"854.69,-55.57 863.91,-50.36 853.45,-48.68 854.69,-55.57\"/>\n",
       "</g>\n",
       "<!-- 2049343518992+&#45;&gt;2049343518992 -->\n",
       "<g id=\"edge1\" class=\"edge\">\n",
       "<title>2049343518992+&#45;&gt;2049343518992</title>\n",
       "<path fill=\"none\" stroke=\"black\" d=\"M603.46,-73.5C610.94,-73.5 619.56,-73.5 628.73,-73.5\"/>\n",
       "<polygon fill=\"black\" stroke=\"black\" points=\"628.64,-77 638.64,-73.5 628.64,-70 628.64,-77\"/>\n",
       "</g>\n",
       "<!-- 2049343519056 -->\n",
       "<g id=\"node7\" class=\"node\">\n",
       "<title>2049343519056</title>\n",
       "<polygon fill=\"none\" stroke=\"black\" points=\"955,-27.5 955,-63.5 1149,-63.5 1149,-27.5 955,-27.5\"/>\n",
       "<text text-anchor=\"middle\" x=\"967.5\" y=\"-41.8\" font-family=\"Times New Roman,serif\" font-size=\"14.00\">L</text>\n",
       "<polyline fill=\"none\" stroke=\"black\" points=\"980,-27.5 980,-63.5\"/>\n",
       "<text text-anchor=\"middle\" x=\"1023\" y=\"-41.8\" font-family=\"Times New Roman,serif\" font-size=\"14.00\">data &#45;8.0000</text>\n",
       "<polyline fill=\"none\" stroke=\"black\" points=\"1066,-27.5 1066,-63.5\"/>\n",
       "<text text-anchor=\"middle\" x=\"1107.5\" y=\"-41.8\" font-family=\"Times New Roman,serif\" font-size=\"14.00\">grad 0.0000</text>\n",
       "</g>\n",
       "<!-- 2049343519056*&#45;&gt;2049343519056 -->\n",
       "<g id=\"edge2\" class=\"edge\">\n",
       "<title>2049343519056*&#45;&gt;2049343519056</title>\n",
       "<path fill=\"none\" stroke=\"black\" d=\"M919.45,-45.5C926.67,-45.5 934.97,-45.5 943.82,-45.5\"/>\n",
       "<polygon fill=\"black\" stroke=\"black\" points=\"943.75,-49 953.75,-45.5 943.75,-42 943.75,-49\"/>\n",
       "</g>\n",
       "<!-- 2049343516112 -->\n",
       "<g id=\"node9\" class=\"node\">\n",
       "<title>2049343516112</title>\n",
       "<polygon fill=\"none\" stroke=\"black\" points=\"320,-83.5 320,-119.5 512,-119.5 512,-83.5 320,-83.5\"/>\n",
       "<text text-anchor=\"middle\" x=\"331.5\" y=\"-97.8\" font-family=\"Times New Roman,serif\" font-size=\"14.00\">e</text>\n",
       "<polyline fill=\"none\" stroke=\"black\" points=\"343,-83.5 343,-119.5\"/>\n",
       "<text text-anchor=\"middle\" x=\"386\" y=\"-97.8\" font-family=\"Times New Roman,serif\" font-size=\"14.00\">data &#45;6.0000</text>\n",
       "<polyline fill=\"none\" stroke=\"black\" points=\"429,-83.5 429,-119.5\"/>\n",
       "<text text-anchor=\"middle\" x=\"470.5\" y=\"-97.8\" font-family=\"Times New Roman,serif\" font-size=\"14.00\">grad 0.0000</text>\n",
       "</g>\n",
       "<!-- 2049343516112&#45;&gt;2049343518992+ -->\n",
       "<g id=\"edge5\" class=\"edge\">\n",
       "<title>2049343516112&#45;&gt;2049343518992+</title>\n",
       "<path fill=\"none\" stroke=\"black\" d=\"M511.65,-84.73C521.01,-83.07 530.06,-81.46 538.26,-80.01\"/>\n",
       "<polygon fill=\"black\" stroke=\"black\" points=\"538.86,-83.46 548.1,-78.27 537.64,-76.57 538.86,-83.46\"/>\n",
       "</g>\n",
       "<!-- 2049343516112*&#45;&gt;2049343516112 -->\n",
       "<g id=\"edge3\" class=\"edge\">\n",
       "<title>2049343516112*&#45;&gt;2049343516112</title>\n",
       "<path fill=\"none\" stroke=\"black\" d=\"M283.45,-101.5C290.94,-101.5 299.59,-101.5 308.8,-101.5\"/>\n",
       "<polygon fill=\"black\" stroke=\"black\" points=\"308.76,-105 318.76,-101.5 308.76,-98 308.76,-105\"/>\n",
       "</g>\n",
       "</g>\n",
       "</svg>\n"
      ],
      "text/plain": [
       "<graphviz.graphs.Digraph at 0x1dd265e5c90>"
      ]
     },
     "execution_count": 6,
     "metadata": {},
     "output_type": "execute_result"
    }
   ],
   "source": [
    "draw_dot(L)"
   ]
  },
  {
   "cell_type": "markdown",
   "id": "eab6aa76-29fd-4e27-845d-0b2324899c21",
   "metadata": {},
   "source": [
    "### a+h"
   ]
  },
  {
   "cell_type": "code",
   "execution_count": 14,
   "id": "f39ef64b-ebb7-40c9-93fb-54743d09450f",
   "metadata": {},
   "outputs": [],
   "source": [
    "def lol():\n",
    "    \n",
    "    h = 0.0001\n",
    "    \n",
    "    a = Value(2.0, label='a')\n",
    "    b = Value(-3.0, label='b')\n",
    "    c = Value(10.0, label='c')\n",
    "    e = a*b; e.label= 'e'\n",
    "    d = e+c; d.label = 'd'\n",
    "    f = Value(-2.0, label='f')\n",
    "    L = d*f; L.label = 'L'\n",
    "    L1 = L.data\n",
    "    \n",
    "    a = Value(2.0+h, label='a')\n",
    "    b = Value(-3.0, label='b')\n",
    "    c = Value(10.0, label='c')\n",
    "    e = a*b; e.label= 'e'\n",
    "    d = e+c; d.label = 'd'\n",
    "    f = Value(-2.0, label='f')\n",
    "    L = d*f; L.label = 'L'\n",
    "    L2 = L.data\n",
    "    \n",
    "    print((L2 - L1)/h)"
   ]
  },
  {
   "cell_type": "code",
   "execution_count": 15,
   "id": "ccdffa07-fe72-43d3-b427-70e19c5dcecd",
   "metadata": {},
   "outputs": [
    {
     "name": "stdout",
     "output_type": "stream",
     "text": [
      "6.000000000021544\n"
     ]
    }
   ],
   "source": [
    "lol()"
   ]
  },
  {
   "cell_type": "markdown",
   "id": "84dd7add-0f54-4aec-9032-0f228d6f5b8f",
   "metadata": {},
   "source": [
    "### L+h is the derivative of L by L equals 1"
   ]
  },
  {
   "cell_type": "code",
   "execution_count": 18,
   "id": "d5db483a-da96-455a-b12e-99a6d9822f8c",
   "metadata": {},
   "outputs": [],
   "source": [
    "def lol():\n",
    "    \n",
    "    h = 0.001\n",
    "    \n",
    "    a = Value(2.0, label='a')\n",
    "    b = Value(-3.0, label='b')\n",
    "    c = Value(10.0, label='c')\n",
    "    e = a*b; e.label= 'e'\n",
    "    d = e+c; d.label = 'd'\n",
    "    f = Value(-2.0, label='f')\n",
    "    L = d*f; L.label = 'L'\n",
    "    L1 = L.data\n",
    "    \n",
    "    a = Value(2.0, label='a')\n",
    "    b = Value(-3.0, label='b')\n",
    "    c = Value(10.0, label='c')\n",
    "    e = a*b; e.label= 'e'\n",
    "    d = e+c; d.label = 'd'\n",
    "    f = Value(-2.0, label='f')\n",
    "    L = d*f; L.label = 'L'\n",
    "    L2 = L.data+h\n",
    "    \n",
    "    print((L2 - L1)/h)"
   ]
  },
  {
   "cell_type": "code",
   "execution_count": 19,
   "id": "e337b418-2fed-4ea0-80d0-cb8d1b6547b4",
   "metadata": {},
   "outputs": [
    {
     "name": "stdout",
     "output_type": "stream",
     "text": [
      "1.000000000000334\n"
     ]
    }
   ],
   "source": [
    "lol()"
   ]
  },
  {
   "cell_type": "markdown",
   "id": "30839e28-415b-4505-a43d-eb7ea51ecf37",
   "metadata": {},
   "source": [
    "## Manual backpropagation"
   ]
  },
  {
   "cell_type": "markdown",
   "id": "73c10b28-3a5f-4054-9110-87aab7d17b14",
   "metadata": {},
   "source": [
    "### Manualy set grad of L to 1.0"
   ]
  },
  {
   "cell_type": "code",
   "execution_count": 20,
   "id": "1417b995-0ec3-457e-96a8-8493eab6e194",
   "metadata": {},
   "outputs": [],
   "source": [
    "L.grad = 1.0"
   ]
  },
  {
   "cell_type": "code",
   "execution_count": 21,
   "id": "c350a3d6-0d57-4fe3-b96c-c7015507794e",
   "metadata": {},
   "outputs": [
    {
     "data": {
      "image/svg+xml": [
       "<?xml version=\"1.0\" encoding=\"UTF-8\" standalone=\"no\"?>\n",
       "<!DOCTYPE svg PUBLIC \"-//W3C//DTD SVG 1.1//EN\"\n",
       " \"http://www.w3.org/Graphics/SVG/1.1/DTD/svg11.dtd\">\n",
       "<!-- Generated by graphviz version 7.0.6 (20230106.0513)\n",
       " -->\n",
       "<!-- Pages: 1 -->\n",
       "<svg width=\"1157pt\" height=\"156pt\"\n",
       " viewBox=\"0.00 0.00 1157.00 156.00\" xmlns=\"http://www.w3.org/2000/svg\" xmlns:xlink=\"http://www.w3.org/1999/xlink\">\n",
       "<g id=\"graph0\" class=\"graph\" transform=\"scale(1 1) rotate(0) translate(4 152)\">\n",
       "<polygon fill=\"white\" stroke=\"none\" points=\"-4,4 -4,-152 1153,-152 1153,4 -4,4\"/>\n",
       "<!-- 2049343517136 -->\n",
       "<g id=\"node1\" class=\"node\">\n",
       "<title>2049343517136</title>\n",
       "<polygon fill=\"none\" stroke=\"black\" points=\"0,-111.5 0,-147.5 193,-147.5 193,-111.5 0,-111.5\"/>\n",
       "<text text-anchor=\"middle\" x=\"12\" y=\"-125.8\" font-family=\"Times New Roman,serif\" font-size=\"14.00\">b</text>\n",
       "<polyline fill=\"none\" stroke=\"black\" points=\"24,-111.5 24,-147.5\"/>\n",
       "<text text-anchor=\"middle\" x=\"67\" y=\"-125.8\" font-family=\"Times New Roman,serif\" font-size=\"14.00\">data &#45;3.0000</text>\n",
       "<polyline fill=\"none\" stroke=\"black\" points=\"110,-111.5 110,-147.5\"/>\n",
       "<text text-anchor=\"middle\" x=\"151.5\" y=\"-125.8\" font-family=\"Times New Roman,serif\" font-size=\"14.00\">grad 0.0000</text>\n",
       "</g>\n",
       "<!-- 2049343516112* -->\n",
       "<g id=\"node10\" class=\"node\">\n",
       "<title>2049343516112*</title>\n",
       "<ellipse fill=\"none\" stroke=\"black\" cx=\"256\" cy=\"-101.5\" rx=\"27\" ry=\"18\"/>\n",
       "<text text-anchor=\"middle\" x=\"256\" y=\"-97.8\" font-family=\"Times New Roman,serif\" font-size=\"14.00\">*</text>\n",
       "</g>\n",
       "<!-- 2049343517136&#45;&gt;2049343516112* -->\n",
       "<g id=\"edge8\" class=\"edge\">\n",
       "<title>2049343517136&#45;&gt;2049343516112*</title>\n",
       "<path fill=\"none\" stroke=\"black\" d=\"M192.75,-112.57C201.7,-110.98 210.35,-109.44 218.21,-108.04\"/>\n",
       "<polygon fill=\"black\" stroke=\"black\" points=\"218.75,-111.5 227.99,-106.3 217.53,-104.61 218.75,-111.5\"/>\n",
       "</g>\n",
       "<!-- 2049343518672 -->\n",
       "<g id=\"node2\" class=\"node\">\n",
       "<title>2049343518672</title>\n",
       "<polygon fill=\"none\" stroke=\"black\" points=\"319,-28.5 319,-64.5 513,-64.5 513,-28.5 319,-28.5\"/>\n",
       "<text text-anchor=\"middle\" x=\"330.5\" y=\"-42.8\" font-family=\"Times New Roman,serif\" font-size=\"14.00\">c</text>\n",
       "<polyline fill=\"none\" stroke=\"black\" points=\"342,-28.5 342,-64.5\"/>\n",
       "<text text-anchor=\"middle\" x=\"386\" y=\"-42.8\" font-family=\"Times New Roman,serif\" font-size=\"14.00\">data 10.0000</text>\n",
       "<polyline fill=\"none\" stroke=\"black\" points=\"430,-28.5 430,-64.5\"/>\n",
       "<text text-anchor=\"middle\" x=\"471.5\" y=\"-42.8\" font-family=\"Times New Roman,serif\" font-size=\"14.00\">grad 0.0000</text>\n",
       "</g>\n",
       "<!-- 2049343518992+ -->\n",
       "<g id=\"node6\" class=\"node\">\n",
       "<title>2049343518992+</title>\n",
       "<ellipse fill=\"none\" stroke=\"black\" cx=\"576\" cy=\"-73.5\" rx=\"27\" ry=\"18\"/>\n",
       "<text text-anchor=\"middle\" x=\"576\" y=\"-69.8\" font-family=\"Times New Roman,serif\" font-size=\"14.00\">+</text>\n",
       "</g>\n",
       "<!-- 2049343518672&#45;&gt;2049343518992+ -->\n",
       "<g id=\"edge7\" class=\"edge\">\n",
       "<title>2049343518672&#45;&gt;2049343518992+</title>\n",
       "<path fill=\"none\" stroke=\"black\" d=\"M512.55,-62.83C521.53,-64.36 530.21,-65.85 538.1,-67.19\"/>\n",
       "<polygon fill=\"black\" stroke=\"black\" points=\"537.46,-70.63 547.9,-68.87 538.64,-63.73 537.46,-70.63\"/>\n",
       "</g>\n",
       "<!-- 2049343515344 -->\n",
       "<g id=\"node3\" class=\"node\">\n",
       "<title>2049343515344</title>\n",
       "<polygon fill=\"none\" stroke=\"black\" points=\"3,-56.5 3,-92.5 190,-92.5 190,-56.5 3,-56.5\"/>\n",
       "<text text-anchor=\"middle\" x=\"14.5\" y=\"-70.8\" font-family=\"Times New Roman,serif\" font-size=\"14.00\">a</text>\n",
       "<polyline fill=\"none\" stroke=\"black\" points=\"26,-56.5 26,-92.5\"/>\n",
       "<text text-anchor=\"middle\" x=\"66.5\" y=\"-70.8\" font-family=\"Times New Roman,serif\" font-size=\"14.00\">data 2.0000</text>\n",
       "<polyline fill=\"none\" stroke=\"black\" points=\"107,-56.5 107,-92.5\"/>\n",
       "<text text-anchor=\"middle\" x=\"148.5\" y=\"-70.8\" font-family=\"Times New Roman,serif\" font-size=\"14.00\">grad 0.0000</text>\n",
       "</g>\n",
       "<!-- 2049343515344&#45;&gt;2049343516112* -->\n",
       "<g id=\"edge6\" class=\"edge\">\n",
       "<title>2049343515344&#45;&gt;2049343516112*</title>\n",
       "<path fill=\"none\" stroke=\"black\" d=\"M189.57,-90.28C199.66,-92.01 209.45,-93.69 218.25,-95.2\"/>\n",
       "<polygon fill=\"black\" stroke=\"black\" points=\"217.63,-98.65 228.08,-96.89 218.82,-91.75 217.63,-98.65\"/>\n",
       "</g>\n",
       "<!-- 2049343518928 -->\n",
       "<g id=\"node4\" class=\"node\">\n",
       "<title>2049343518928</title>\n",
       "<polygon fill=\"none\" stroke=\"black\" points=\"639,-0.5 639,-36.5 829,-36.5 829,-0.5 639,-0.5\"/>\n",
       "<text text-anchor=\"middle\" x=\"649.5\" y=\"-14.8\" font-family=\"Times New Roman,serif\" font-size=\"14.00\">f</text>\n",
       "<polyline fill=\"none\" stroke=\"black\" points=\"660,-0.5 660,-36.5\"/>\n",
       "<text text-anchor=\"middle\" x=\"703\" y=\"-14.8\" font-family=\"Times New Roman,serif\" font-size=\"14.00\">data &#45;2.0000</text>\n",
       "<polyline fill=\"none\" stroke=\"black\" points=\"746,-0.5 746,-36.5\"/>\n",
       "<text text-anchor=\"middle\" x=\"787.5\" y=\"-14.8\" font-family=\"Times New Roman,serif\" font-size=\"14.00\">grad 0.0000</text>\n",
       "</g>\n",
       "<!-- 2049343519056* -->\n",
       "<g id=\"node8\" class=\"node\">\n",
       "<title>2049343519056*</title>\n",
       "<ellipse fill=\"none\" stroke=\"black\" cx=\"892\" cy=\"-45.5\" rx=\"27\" ry=\"18\"/>\n",
       "<text text-anchor=\"middle\" x=\"892\" y=\"-41.8\" font-family=\"Times New Roman,serif\" font-size=\"14.00\">*</text>\n",
       "</g>\n",
       "<!-- 2049343518928&#45;&gt;2049343519056* -->\n",
       "<g id=\"edge9\" class=\"edge\">\n",
       "<title>2049343518928&#45;&gt;2049343519056*</title>\n",
       "<path fill=\"none\" stroke=\"black\" d=\"M828.9,-34.75C837.81,-36.29 846.43,-37.79 854.28,-39.14\"/>\n",
       "<polygon fill=\"black\" stroke=\"black\" points=\"853.57,-42.57 864.02,-40.83 854.76,-35.68 853.57,-42.57\"/>\n",
       "</g>\n",
       "<!-- 2049343518992 -->\n",
       "<g id=\"node5\" class=\"node\">\n",
       "<title>2049343518992</title>\n",
       "<polygon fill=\"none\" stroke=\"black\" points=\"640,-55.5 640,-91.5 828,-91.5 828,-55.5 640,-55.5\"/>\n",
       "<text text-anchor=\"middle\" x=\"652\" y=\"-69.8\" font-family=\"Times New Roman,serif\" font-size=\"14.00\">d</text>\n",
       "<polyline fill=\"none\" stroke=\"black\" points=\"664,-55.5 664,-91.5\"/>\n",
       "<text text-anchor=\"middle\" x=\"704.5\" y=\"-69.8\" font-family=\"Times New Roman,serif\" font-size=\"14.00\">data 4.0000</text>\n",
       "<polyline fill=\"none\" stroke=\"black\" points=\"745,-55.5 745,-91.5\"/>\n",
       "<text text-anchor=\"middle\" x=\"786.5\" y=\"-69.8\" font-family=\"Times New Roman,serif\" font-size=\"14.00\">grad 0.0000</text>\n",
       "</g>\n",
       "<!-- 2049343518992&#45;&gt;2049343519056* -->\n",
       "<g id=\"edge4\" class=\"edge\">\n",
       "<title>2049343518992&#45;&gt;2049343519056*</title>\n",
       "<path fill=\"none\" stroke=\"black\" d=\"M828,-56.81C837.2,-55.16 846.12,-53.56 854.21,-52.1\"/>\n",
       "<polygon fill=\"black\" stroke=\"black\" points=\"854.69,-55.57 863.91,-50.36 853.45,-48.68 854.69,-55.57\"/>\n",
       "</g>\n",
       "<!-- 2049343518992+&#45;&gt;2049343518992 -->\n",
       "<g id=\"edge1\" class=\"edge\">\n",
       "<title>2049343518992+&#45;&gt;2049343518992</title>\n",
       "<path fill=\"none\" stroke=\"black\" d=\"M603.46,-73.5C610.94,-73.5 619.56,-73.5 628.73,-73.5\"/>\n",
       "<polygon fill=\"black\" stroke=\"black\" points=\"628.64,-77 638.64,-73.5 628.64,-70 628.64,-77\"/>\n",
       "</g>\n",
       "<!-- 2049343519056 -->\n",
       "<g id=\"node7\" class=\"node\">\n",
       "<title>2049343519056</title>\n",
       "<polygon fill=\"none\" stroke=\"black\" points=\"955,-27.5 955,-63.5 1149,-63.5 1149,-27.5 955,-27.5\"/>\n",
       "<text text-anchor=\"middle\" x=\"967.5\" y=\"-41.8\" font-family=\"Times New Roman,serif\" font-size=\"14.00\">L</text>\n",
       "<polyline fill=\"none\" stroke=\"black\" points=\"980,-27.5 980,-63.5\"/>\n",
       "<text text-anchor=\"middle\" x=\"1023\" y=\"-41.8\" font-family=\"Times New Roman,serif\" font-size=\"14.00\">data &#45;8.0000</text>\n",
       "<polyline fill=\"none\" stroke=\"black\" points=\"1066,-27.5 1066,-63.5\"/>\n",
       "<text text-anchor=\"middle\" x=\"1107.5\" y=\"-41.8\" font-family=\"Times New Roman,serif\" font-size=\"14.00\">grad 1.0000</text>\n",
       "</g>\n",
       "<!-- 2049343519056*&#45;&gt;2049343519056 -->\n",
       "<g id=\"edge2\" class=\"edge\">\n",
       "<title>2049343519056*&#45;&gt;2049343519056</title>\n",
       "<path fill=\"none\" stroke=\"black\" d=\"M919.45,-45.5C926.67,-45.5 934.97,-45.5 943.82,-45.5\"/>\n",
       "<polygon fill=\"black\" stroke=\"black\" points=\"943.75,-49 953.75,-45.5 943.75,-42 943.75,-49\"/>\n",
       "</g>\n",
       "<!-- 2049343516112 -->\n",
       "<g id=\"node9\" class=\"node\">\n",
       "<title>2049343516112</title>\n",
       "<polygon fill=\"none\" stroke=\"black\" points=\"320,-83.5 320,-119.5 512,-119.5 512,-83.5 320,-83.5\"/>\n",
       "<text text-anchor=\"middle\" x=\"331.5\" y=\"-97.8\" font-family=\"Times New Roman,serif\" font-size=\"14.00\">e</text>\n",
       "<polyline fill=\"none\" stroke=\"black\" points=\"343,-83.5 343,-119.5\"/>\n",
       "<text text-anchor=\"middle\" x=\"386\" y=\"-97.8\" font-family=\"Times New Roman,serif\" font-size=\"14.00\">data &#45;6.0000</text>\n",
       "<polyline fill=\"none\" stroke=\"black\" points=\"429,-83.5 429,-119.5\"/>\n",
       "<text text-anchor=\"middle\" x=\"470.5\" y=\"-97.8\" font-family=\"Times New Roman,serif\" font-size=\"14.00\">grad 0.0000</text>\n",
       "</g>\n",
       "<!-- 2049343516112&#45;&gt;2049343518992+ -->\n",
       "<g id=\"edge5\" class=\"edge\">\n",
       "<title>2049343516112&#45;&gt;2049343518992+</title>\n",
       "<path fill=\"none\" stroke=\"black\" d=\"M511.65,-84.73C521.01,-83.07 530.06,-81.46 538.26,-80.01\"/>\n",
       "<polygon fill=\"black\" stroke=\"black\" points=\"538.86,-83.46 548.1,-78.27 537.64,-76.57 538.86,-83.46\"/>\n",
       "</g>\n",
       "<!-- 2049343516112*&#45;&gt;2049343516112 -->\n",
       "<g id=\"edge3\" class=\"edge\">\n",
       "<title>2049343516112*&#45;&gt;2049343516112</title>\n",
       "<path fill=\"none\" stroke=\"black\" d=\"M283.45,-101.5C290.94,-101.5 299.59,-101.5 308.8,-101.5\"/>\n",
       "<polygon fill=\"black\" stroke=\"black\" points=\"308.76,-105 318.76,-101.5 308.76,-98 308.76,-105\"/>\n",
       "</g>\n",
       "</g>\n",
       "</svg>\n"
      ],
      "text/plain": [
       "<graphviz.graphs.Digraph at 0x1dd26ad7dd0>"
      ]
     },
     "execution_count": 21,
     "metadata": {},
     "output_type": "execute_result"
    }
   ],
   "source": [
    "draw_dot(L)"
   ]
  },
  {
   "cell_type": "markdown",
   "id": "c5d9ee46-2dcf-45f1-8067-d650bf6cc614",
   "metadata": {},
   "source": [
    "L = d * f\n",
    "\n",
    "dL / dd = f how?\n",
    "\n",
    "(f(x+h)-f(x))/h\n",
    "\n",
    "((d+h)*f - d*f)/h\n",
    "\n",
    "(d*f + h*f - d*f) / h\n",
    "\n",
    "(h*f)/h\n",
    "\n",
    "f"
   ]
  },
  {
   "cell_type": "code",
   "execution_count": 22,
   "id": "1dac7169-4117-4be1-b79f-f12ccab8e1a6",
   "metadata": {},
   "outputs": [],
   "source": [
    "L.grad = 1\n",
    "f.grad = 4.0\n",
    "d.grad = -2.0"
   ]
  },
  {
   "cell_type": "code",
   "execution_count": 23,
   "id": "6d312592-45e7-418e-b468-b91e20f5e27a",
   "metadata": {},
   "outputs": [
    {
     "data": {
      "image/svg+xml": [
       "<?xml version=\"1.0\" encoding=\"UTF-8\" standalone=\"no\"?>\n",
       "<!DOCTYPE svg PUBLIC \"-//W3C//DTD SVG 1.1//EN\"\n",
       " \"http://www.w3.org/Graphics/SVG/1.1/DTD/svg11.dtd\">\n",
       "<!-- Generated by graphviz version 7.0.6 (20230106.0513)\n",
       " -->\n",
       "<!-- Pages: 1 -->\n",
       "<svg width=\"1159pt\" height=\"156pt\"\n",
       " viewBox=\"0.00 0.00 1159.00 156.00\" xmlns=\"http://www.w3.org/2000/svg\" xmlns:xlink=\"http://www.w3.org/1999/xlink\">\n",
       "<g id=\"graph0\" class=\"graph\" transform=\"scale(1 1) rotate(0) translate(4 152)\">\n",
       "<polygon fill=\"white\" stroke=\"none\" points=\"-4,4 -4,-152 1155,-152 1155,4 -4,4\"/>\n",
       "<!-- 2049343517136 -->\n",
       "<g id=\"node1\" class=\"node\">\n",
       "<title>2049343517136</title>\n",
       "<polygon fill=\"none\" stroke=\"black\" points=\"0,-111.5 0,-147.5 193,-147.5 193,-111.5 0,-111.5\"/>\n",
       "<text text-anchor=\"middle\" x=\"12\" y=\"-125.8\" font-family=\"Times New Roman,serif\" font-size=\"14.00\">b</text>\n",
       "<polyline fill=\"none\" stroke=\"black\" points=\"24,-111.5 24,-147.5\"/>\n",
       "<text text-anchor=\"middle\" x=\"67\" y=\"-125.8\" font-family=\"Times New Roman,serif\" font-size=\"14.00\">data &#45;3.0000</text>\n",
       "<polyline fill=\"none\" stroke=\"black\" points=\"110,-111.5 110,-147.5\"/>\n",
       "<text text-anchor=\"middle\" x=\"151.5\" y=\"-125.8\" font-family=\"Times New Roman,serif\" font-size=\"14.00\">grad 0.0000</text>\n",
       "</g>\n",
       "<!-- 2049343516112* -->\n",
       "<g id=\"node10\" class=\"node\">\n",
       "<title>2049343516112*</title>\n",
       "<ellipse fill=\"none\" stroke=\"black\" cx=\"256\" cy=\"-101.5\" rx=\"27\" ry=\"18\"/>\n",
       "<text text-anchor=\"middle\" x=\"256\" y=\"-97.8\" font-family=\"Times New Roman,serif\" font-size=\"14.00\">*</text>\n",
       "</g>\n",
       "<!-- 2049343517136&#45;&gt;2049343516112* -->\n",
       "<g id=\"edge8\" class=\"edge\">\n",
       "<title>2049343517136&#45;&gt;2049343516112*</title>\n",
       "<path fill=\"none\" stroke=\"black\" d=\"M192.75,-112.57C201.7,-110.98 210.35,-109.44 218.21,-108.04\"/>\n",
       "<polygon fill=\"black\" stroke=\"black\" points=\"218.75,-111.5 227.99,-106.3 217.53,-104.61 218.75,-111.5\"/>\n",
       "</g>\n",
       "<!-- 2049343518672 -->\n",
       "<g id=\"node2\" class=\"node\">\n",
       "<title>2049343518672</title>\n",
       "<polygon fill=\"none\" stroke=\"black\" points=\"319,-28.5 319,-64.5 513,-64.5 513,-28.5 319,-28.5\"/>\n",
       "<text text-anchor=\"middle\" x=\"330.5\" y=\"-42.8\" font-family=\"Times New Roman,serif\" font-size=\"14.00\">c</text>\n",
       "<polyline fill=\"none\" stroke=\"black\" points=\"342,-28.5 342,-64.5\"/>\n",
       "<text text-anchor=\"middle\" x=\"386\" y=\"-42.8\" font-family=\"Times New Roman,serif\" font-size=\"14.00\">data 10.0000</text>\n",
       "<polyline fill=\"none\" stroke=\"black\" points=\"430,-28.5 430,-64.5\"/>\n",
       "<text text-anchor=\"middle\" x=\"471.5\" y=\"-42.8\" font-family=\"Times New Roman,serif\" font-size=\"14.00\">grad 0.0000</text>\n",
       "</g>\n",
       "<!-- 2049343518992+ -->\n",
       "<g id=\"node6\" class=\"node\">\n",
       "<title>2049343518992+</title>\n",
       "<ellipse fill=\"none\" stroke=\"black\" cx=\"576\" cy=\"-73.5\" rx=\"27\" ry=\"18\"/>\n",
       "<text text-anchor=\"middle\" x=\"576\" y=\"-69.8\" font-family=\"Times New Roman,serif\" font-size=\"14.00\">+</text>\n",
       "</g>\n",
       "<!-- 2049343518672&#45;&gt;2049343518992+ -->\n",
       "<g id=\"edge7\" class=\"edge\">\n",
       "<title>2049343518672&#45;&gt;2049343518992+</title>\n",
       "<path fill=\"none\" stroke=\"black\" d=\"M512.55,-62.83C521.53,-64.36 530.21,-65.85 538.1,-67.19\"/>\n",
       "<polygon fill=\"black\" stroke=\"black\" points=\"537.46,-70.63 547.9,-68.87 538.64,-63.73 537.46,-70.63\"/>\n",
       "</g>\n",
       "<!-- 2049343515344 -->\n",
       "<g id=\"node3\" class=\"node\">\n",
       "<title>2049343515344</title>\n",
       "<polygon fill=\"none\" stroke=\"black\" points=\"3,-56.5 3,-92.5 190,-92.5 190,-56.5 3,-56.5\"/>\n",
       "<text text-anchor=\"middle\" x=\"14.5\" y=\"-70.8\" font-family=\"Times New Roman,serif\" font-size=\"14.00\">a</text>\n",
       "<polyline fill=\"none\" stroke=\"black\" points=\"26,-56.5 26,-92.5\"/>\n",
       "<text text-anchor=\"middle\" x=\"66.5\" y=\"-70.8\" font-family=\"Times New Roman,serif\" font-size=\"14.00\">data 2.0000</text>\n",
       "<polyline fill=\"none\" stroke=\"black\" points=\"107,-56.5 107,-92.5\"/>\n",
       "<text text-anchor=\"middle\" x=\"148.5\" y=\"-70.8\" font-family=\"Times New Roman,serif\" font-size=\"14.00\">grad 0.0000</text>\n",
       "</g>\n",
       "<!-- 2049343515344&#45;&gt;2049343516112* -->\n",
       "<g id=\"edge6\" class=\"edge\">\n",
       "<title>2049343515344&#45;&gt;2049343516112*</title>\n",
       "<path fill=\"none\" stroke=\"black\" d=\"M189.57,-90.28C199.66,-92.01 209.45,-93.69 218.25,-95.2\"/>\n",
       "<polygon fill=\"black\" stroke=\"black\" points=\"217.63,-98.65 228.08,-96.89 218.82,-91.75 217.63,-98.65\"/>\n",
       "</g>\n",
       "<!-- 2049343518928 -->\n",
       "<g id=\"node4\" class=\"node\">\n",
       "<title>2049343518928</title>\n",
       "<polygon fill=\"none\" stroke=\"black\" points=\"640,-0.5 640,-36.5 830,-36.5 830,-0.5 640,-0.5\"/>\n",
       "<text text-anchor=\"middle\" x=\"650.5\" y=\"-14.8\" font-family=\"Times New Roman,serif\" font-size=\"14.00\">f</text>\n",
       "<polyline fill=\"none\" stroke=\"black\" points=\"661,-0.5 661,-36.5\"/>\n",
       "<text text-anchor=\"middle\" x=\"704\" y=\"-14.8\" font-family=\"Times New Roman,serif\" font-size=\"14.00\">data &#45;2.0000</text>\n",
       "<polyline fill=\"none\" stroke=\"black\" points=\"747,-0.5 747,-36.5\"/>\n",
       "<text text-anchor=\"middle\" x=\"788.5\" y=\"-14.8\" font-family=\"Times New Roman,serif\" font-size=\"14.00\">grad 4.0000</text>\n",
       "</g>\n",
       "<!-- 2049343519056* -->\n",
       "<g id=\"node8\" class=\"node\">\n",
       "<title>2049343519056*</title>\n",
       "<ellipse fill=\"none\" stroke=\"black\" cx=\"894\" cy=\"-45.5\" rx=\"27\" ry=\"18\"/>\n",
       "<text text-anchor=\"middle\" x=\"894\" y=\"-41.8\" font-family=\"Times New Roman,serif\" font-size=\"14.00\">*</text>\n",
       "</g>\n",
       "<!-- 2049343518928&#45;&gt;2049343519056* -->\n",
       "<g id=\"edge9\" class=\"edge\">\n",
       "<title>2049343518928&#45;&gt;2049343519056*</title>\n",
       "<path fill=\"none\" stroke=\"black\" d=\"M829.59,-34.6C838.95,-36.2 848,-37.76 856.21,-39.17\"/>\n",
       "<polygon fill=\"black\" stroke=\"black\" points=\"855.6,-42.62 866.05,-40.87 856.79,-35.72 855.6,-42.62\"/>\n",
       "</g>\n",
       "<!-- 2049343518992 -->\n",
       "<g id=\"node5\" class=\"node\">\n",
       "<title>2049343518992</title>\n",
       "<polygon fill=\"none\" stroke=\"black\" points=\"639,-55.5 639,-91.5 831,-91.5 831,-55.5 639,-55.5\"/>\n",
       "<text text-anchor=\"middle\" x=\"651\" y=\"-69.8\" font-family=\"Times New Roman,serif\" font-size=\"14.00\">d</text>\n",
       "<polyline fill=\"none\" stroke=\"black\" points=\"663,-55.5 663,-91.5\"/>\n",
       "<text text-anchor=\"middle\" x=\"703.5\" y=\"-69.8\" font-family=\"Times New Roman,serif\" font-size=\"14.00\">data 4.0000</text>\n",
       "<polyline fill=\"none\" stroke=\"black\" points=\"744,-55.5 744,-91.5\"/>\n",
       "<text text-anchor=\"middle\" x=\"787.5\" y=\"-69.8\" font-family=\"Times New Roman,serif\" font-size=\"14.00\">grad &#45;2.0000</text>\n",
       "</g>\n",
       "<!-- 2049343518992&#45;&gt;2049343519056* -->\n",
       "<g id=\"edge4\" class=\"edge\">\n",
       "<title>2049343518992&#45;&gt;2049343519056*</title>\n",
       "<path fill=\"none\" stroke=\"black\" d=\"M830.95,-56.57C839.87,-54.98 848.49,-53.44 856.33,-52.04\"/>\n",
       "<polygon fill=\"black\" stroke=\"black\" points=\"856.84,-55.5 866.07,-50.3 855.61,-48.61 856.84,-55.5\"/>\n",
       "</g>\n",
       "<!-- 2049343518992+&#45;&gt;2049343518992 -->\n",
       "<g id=\"edge1\" class=\"edge\">\n",
       "<title>2049343518992+&#45;&gt;2049343518992</title>\n",
       "<path fill=\"none\" stroke=\"black\" d=\"M603.28,-73.5C610.52,-73.5 618.85,-73.5 627.72,-73.5\"/>\n",
       "<polygon fill=\"black\" stroke=\"black\" points=\"627.69,-77 637.69,-73.5 627.69,-70 627.69,-77\"/>\n",
       "</g>\n",
       "<!-- 2049343519056 -->\n",
       "<g id=\"node7\" class=\"node\">\n",
       "<title>2049343519056</title>\n",
       "<polygon fill=\"none\" stroke=\"black\" points=\"957,-27.5 957,-63.5 1151,-63.5 1151,-27.5 957,-27.5\"/>\n",
       "<text text-anchor=\"middle\" x=\"969.5\" y=\"-41.8\" font-family=\"Times New Roman,serif\" font-size=\"14.00\">L</text>\n",
       "<polyline fill=\"none\" stroke=\"black\" points=\"982,-27.5 982,-63.5\"/>\n",
       "<text text-anchor=\"middle\" x=\"1025\" y=\"-41.8\" font-family=\"Times New Roman,serif\" font-size=\"14.00\">data &#45;8.0000</text>\n",
       "<polyline fill=\"none\" stroke=\"black\" points=\"1068,-27.5 1068,-63.5\"/>\n",
       "<text text-anchor=\"middle\" x=\"1109.5\" y=\"-41.8\" font-family=\"Times New Roman,serif\" font-size=\"14.00\">grad 1.0000</text>\n",
       "</g>\n",
       "<!-- 2049343519056*&#45;&gt;2049343519056 -->\n",
       "<g id=\"edge2\" class=\"edge\">\n",
       "<title>2049343519056*&#45;&gt;2049343519056</title>\n",
       "<path fill=\"none\" stroke=\"black\" d=\"M921.45,-45.5C928.67,-45.5 936.97,-45.5 945.82,-45.5\"/>\n",
       "<polygon fill=\"black\" stroke=\"black\" points=\"945.75,-49 955.75,-45.5 945.75,-42 945.75,-49\"/>\n",
       "</g>\n",
       "<!-- 2049343516112 -->\n",
       "<g id=\"node9\" class=\"node\">\n",
       "<title>2049343516112</title>\n",
       "<polygon fill=\"none\" stroke=\"black\" points=\"320,-83.5 320,-119.5 512,-119.5 512,-83.5 320,-83.5\"/>\n",
       "<text text-anchor=\"middle\" x=\"331.5\" y=\"-97.8\" font-family=\"Times New Roman,serif\" font-size=\"14.00\">e</text>\n",
       "<polyline fill=\"none\" stroke=\"black\" points=\"343,-83.5 343,-119.5\"/>\n",
       "<text text-anchor=\"middle\" x=\"386\" y=\"-97.8\" font-family=\"Times New Roman,serif\" font-size=\"14.00\">data &#45;6.0000</text>\n",
       "<polyline fill=\"none\" stroke=\"black\" points=\"429,-83.5 429,-119.5\"/>\n",
       "<text text-anchor=\"middle\" x=\"470.5\" y=\"-97.8\" font-family=\"Times New Roman,serif\" font-size=\"14.00\">grad 0.0000</text>\n",
       "</g>\n",
       "<!-- 2049343516112&#45;&gt;2049343518992+ -->\n",
       "<g id=\"edge5\" class=\"edge\">\n",
       "<title>2049343516112&#45;&gt;2049343518992+</title>\n",
       "<path fill=\"none\" stroke=\"black\" d=\"M511.65,-84.73C521.01,-83.07 530.06,-81.46 538.26,-80.01\"/>\n",
       "<polygon fill=\"black\" stroke=\"black\" points=\"538.86,-83.46 548.1,-78.27 537.64,-76.57 538.86,-83.46\"/>\n",
       "</g>\n",
       "<!-- 2049343516112*&#45;&gt;2049343516112 -->\n",
       "<g id=\"edge3\" class=\"edge\">\n",
       "<title>2049343516112*&#45;&gt;2049343516112</title>\n",
       "<path fill=\"none\" stroke=\"black\" d=\"M283.45,-101.5C290.94,-101.5 299.59,-101.5 308.8,-101.5\"/>\n",
       "<polygon fill=\"black\" stroke=\"black\" points=\"308.76,-105 318.76,-101.5 308.76,-98 308.76,-105\"/>\n",
       "</g>\n",
       "</g>\n",
       "</svg>\n"
      ],
      "text/plain": [
       "<graphviz.graphs.Digraph at 0x1dd265e6950>"
      ]
     },
     "execution_count": 23,
     "metadata": {},
     "output_type": "execute_result"
    }
   ],
   "source": [
    "draw_dot(L)"
   ]
  },
  {
   "cell_type": "markdown",
   "id": "0a2683c5-fd4c-4a14-a383-4e4791dee2b7",
   "metadata": {},
   "source": [
    "### f+h is the derivative of L by f equals 4"
   ]
  },
  {
   "cell_type": "code",
   "execution_count": 73,
   "id": "d2d1f72d-08c2-46c2-b7bd-c5c6d66e4be6",
   "metadata": {},
   "outputs": [],
   "source": [
    "def lol():\n",
    "    \n",
    "    h = 0.001\n",
    "    \n",
    "    a = Value(2.0, label='a')\n",
    "    b = Value(-3.0, label='b')\n",
    "    c = Value(10.0, label='c')\n",
    "    e = a*b; e.label= 'e'\n",
    "    d = e+c; d.label = 'd'\n",
    "    f = Value(-2.0, label='f')\n",
    "    L = d*f; L.label = 'L'\n",
    "    L1 = L.data\n",
    "    \n",
    "    a = Value(2.0, label='a')\n",
    "    b = Value(-3.0, label='b')\n",
    "    c = Value(10.0, label='c')\n",
    "    e = a*b; e.label= 'e'\n",
    "    d = e+c; d.label = 'd'\n",
    "    f = Value(-2.0+h, label='f')\n",
    "    L = d*f; L.label = 'L'\n",
    "    L2 = L.data\n",
    "    \n",
    "    print('the devivative of L by f:',(L2 - L1)/h)"
   ]
  },
  {
   "cell_type": "code",
   "execution_count": 74,
   "id": "a221ffb9-2617-4f51-b054-7dedd15639a2",
   "metadata": {},
   "outputs": [
    {
     "name": "stdout",
     "output_type": "stream",
     "text": [
      "the devivative of L by f: 3.9999999999995595\n"
     ]
    }
   ],
   "source": [
    "lol()"
   ]
  },
  {
   "cell_type": "markdown",
   "id": "e866356c-1af6-4257-88cf-13dcc900964b",
   "metadata": {},
   "source": [
    "### d+h is the derivative of L by d equals -2"
   ]
  },
  {
   "cell_type": "code",
   "execution_count": 71,
   "id": "93c2a2c1-8a26-431a-a57b-c46df76987f7",
   "metadata": {},
   "outputs": [],
   "source": [
    "def lol():\n",
    "    \n",
    "    h = 0.001\n",
    "    \n",
    "    a = Value(2.0, label='a')\n",
    "    b = Value(-3.0, label='b')\n",
    "    c = Value(10.0, label='c')\n",
    "    e = a*b; e.label= 'e'\n",
    "    d = e+c; d.label = 'd'\n",
    "    f = Value(-2.0, label='f')\n",
    "    L = d*f; L.label = 'L'\n",
    "    L1 = L.data\n",
    "    \n",
    "    a = Value(2.0, label='a')\n",
    "    b = Value(-3.0, label='b')\n",
    "    c = Value(10.0, label='c')\n",
    "    e = a*b; e.label= 'e'\n",
    "    d = e+c; d.label = 'd'\n",
    "    d.data += h\n",
    "    f = Value(-2.0, label='f')\n",
    "    L = d*f; L.label = 'L'\n",
    "    L2 = L.data\n",
    "    \n",
    "    print('the devivative of L by d:',(L2 - L1)/h)"
   ]
  },
  {
   "cell_type": "code",
   "execution_count": 72,
   "id": "90ef2ee7-5f00-4afc-afa8-5c19e019ec3b",
   "metadata": {},
   "outputs": [
    {
     "name": "stdout",
     "output_type": "stream",
     "text": [
      "the devivative of L by d: -2.000000000000668\n"
     ]
    }
   ],
   "source": [
    "lol()"
   ]
  },
  {
   "cell_type": "markdown",
   "id": "8a9af86c-53df-4afc-99c5-5d8b462df4d4",
   "metadata": {},
   "source": [
    "### c+h is the derivative of L by c equals -2"
   ]
  },
  {
   "cell_type": "markdown",
   "id": "7f607fb9-9d64-4b2a-ba0a-0208b7b72733",
   "metadata": {},
   "source": [
    "dl / dc "
   ]
  },
  {
   "cell_type": "markdown",
   "id": "53699e4b-1aad-418e-a960-063a820e46a7",
   "metadata": {},
   "source": [
    "### fist c+h what is the derivative of d by c ? is 1"
   ]
  },
  {
   "cell_type": "markdown",
   "id": "0a475373-883a-4d5e-aa87-59bac958592b",
   "metadata": {},
   "source": [
    "dd / dc ?\n",
    "\n",
    "d = c + e\n",
    "\n",
    "(f(x+h)-f(x))/h\n",
    "\n",
    "((c+h + e) - (c + e))/h\n",
    "\n",
    "(c + h + e - c - e)/h\n",
    "\n",
    "h/h = 1\n"
   ]
  },
  {
   "cell_type": "markdown",
   "id": "17e14775-7c82-4ef7-9bb7-40d9bcb647a0",
   "metadata": {},
   "source": [
    "### and d by e ? is 1"
   ]
  },
  {
   "cell_type": "markdown",
   "id": "cf33207e-4432-4534-bcfb-624153960438",
   "metadata": {},
   "source": [
    "dd / de ?\n",
    "\n",
    "d = e + c\n",
    "\n",
    "(f(x+h)-f(x))/h\n",
    "\n",
    "((e + h + c) - (e + c))/h\n",
    "\n",
    "(e + h + c - e - c)/h\n",
    "\n",
    "h/h = 1\n"
   ]
  },
  {
   "cell_type": "markdown",
   "id": "f0dac17b-7d30-4f9c-b0ba-87e0f0a000fe",
   "metadata": {},
   "source": [
    "### c+h the derivative of d by c equals 1"
   ]
  },
  {
   "cell_type": "code",
   "execution_count": 67,
   "id": "1134a502-57be-469c-a2c7-7836c579a20b",
   "metadata": {},
   "outputs": [],
   "source": [
    "def lol():\n",
    "    \n",
    "    h = 0.001\n",
    "    \n",
    "    a = Value(2.0, label='a')\n",
    "    b = Value(-3.0, label='b')\n",
    "    c = Value(10.0, label='c')\n",
    "    e = a*b; e.label= 'e'\n",
    "    d = e+c; d.label = 'd'\n",
    "    d1 = d.data\n",
    "    f = Value(-2.0, label='f')\n",
    "    L = d*f; L.label = 'L'\n",
    "    L1 = L.data\n",
    "    \n",
    "    a = Value(2.0, label='a')\n",
    "    b = Value(-3.0, label='b')\n",
    "    c = Value(10.0+h, label='c')\n",
    "    e = a*b; e.label= 'e'\n",
    "    d = e+c; d.label = 'd'\n",
    "    d2 = d.data\n",
    "    f = Value(-2.0, label='f')\n",
    "    L = d*f; L.label = 'L'\n",
    "    L2 = L.data\n",
    "    \n",
    "    print('devivative of L by c:', (L2 - L1)/h)# -2.0\n",
    "    print('devivative of d by c:', (d2 - d1)/h)"
   ]
  },
  {
   "cell_type": "code",
   "execution_count": 68,
   "id": "9e4c432a-0989-4d02-98bb-913ef1c6b7ce",
   "metadata": {},
   "outputs": [
    {
     "name": "stdout",
     "output_type": "stream",
     "text": [
      "devivative of L by c: -1.9999999999988916\n",
      "devivative of d by c: 0.9999999999994458\n"
     ]
    }
   ],
   "source": [
    "lol()"
   ]
  },
  {
   "cell_type": "markdown",
   "id": "f100604c-29af-4fc2-899d-25530ea6bbdc",
   "metadata": {},
   "source": [
    "### by symmetry e+h the derivative of d by e equals 1"
   ]
  },
  {
   "cell_type": "code",
   "execution_count": 69,
   "id": "42ac4f30-7fc5-4d99-b91a-f6d705e3a1d0",
   "metadata": {},
   "outputs": [],
   "source": [
    "def lol():\n",
    "    \n",
    "    h = 0.001\n",
    "    \n",
    "    a = Value(2.0, label='a')\n",
    "    b = Value(-3.0, label='b')\n",
    "    c = Value(10.0, label='c')\n",
    "    e = a*b; e.label= 'e'\n",
    "    d = e+c; d.label = 'd'\n",
    "    d1 = d.data\n",
    "    f = Value(-2.0, label='f')\n",
    "    L = d*f; L.label = 'L'\n",
    "    L1 = L.data\n",
    "    \n",
    "    a = Value(2.0, label='a')\n",
    "    b = Value(-3.0, label='b')\n",
    "    c = Value(10.0, label='c')\n",
    "    e = a*b; e.label= 'e'\n",
    "    e.data += h\n",
    "    d = e+c; d.label = 'd'\n",
    "    d2 = d.data\n",
    "    f = Value(-2.0, label='f')\n",
    "    L = d*f; L.label = 'L'\n",
    "    L2 = L.data\n",
    "    \n",
    "    print('devivative of L by e:', (L2 - L1)/h) # -2.0\n",
    "    print('devivative of d by e:', (d2 - d1)/h)"
   ]
  },
  {
   "cell_type": "code",
   "execution_count": 70,
   "id": "c70fe3fe-1886-4651-8726-b936fa21bead",
   "metadata": {},
   "outputs": [
    {
     "name": "stdout",
     "output_type": "stream",
     "text": [
      "devivative of L by e: -2.000000000000668\n",
      "devivative of d by e: 1.000000000000334\n"
     ]
    }
   ],
   "source": [
    "lol()"
   ]
  },
  {
   "cell_type": "markdown",
   "id": "a3b92489-d3e6-498c-be0a-b0c922a843a0",
   "metadata": {},
   "source": [
    "### then"
   ]
  },
  {
   "cell_type": "markdown",
   "id": "e7cdb889-cb36-4b43-9215-1423797bc520",
   "metadata": {},
   "source": [
    " dd / dc = 1.0\n",
    " \n",
    " dd / de = 1.0"
   ]
  },
  {
   "cell_type": "markdown",
   "id": "f0eb7d64-5ed7-49ab-9934-8deaa0feffd1",
   "metadata": {},
   "source": [
    "### Chain rule"
   ]
  },
  {
   "cell_type": "markdown",
   "id": "11b6affb-a748-47e1-bfd7-6675ed55ac8a",
   "metadata": {},
   "source": [
    "#### the go is to now the dirivative of L in repect to c : dL/dc\n",
    "\n",
    "using the Chain rule of calculos:\n",
    "\n",
    "dz/dx = (dz/dy)*(dy/dx)\n",
    "\n",
    "than:\n",
    "\n",
    "dL/dc = (dL/dd)*(dd/dc)\n",
    "\n",
    "know:\n",
    "\n",
    "dL/dd = -2.0\n",
    "\n",
    "dd/dc = 1\n",
    "\n",
    "than:\n",
    "#### dL/dc = -2.0 * 1 = -2"
   ]
  },
  {
   "cell_type": "code",
   "execution_count": 60,
   "id": "bc45aae9-a1db-4c16-ade6-43ddabacf098",
   "metadata": {},
   "outputs": [],
   "source": [
    "c.grad = -2\n",
    "e.grad = -2"
   ]
  },
  {
   "cell_type": "code",
   "execution_count": 62,
   "id": "de6f6a79-598d-4068-81c2-c89f95a77a55",
   "metadata": {},
   "outputs": [
    {
     "data": {
      "image/svg+xml": [
       "<?xml version=\"1.0\" encoding=\"UTF-8\" standalone=\"no\"?>\n",
       "<!DOCTYPE svg PUBLIC \"-//W3C//DTD SVG 1.1//EN\"\n",
       " \"http://www.w3.org/Graphics/SVG/1.1/DTD/svg11.dtd\">\n",
       "<!-- Generated by graphviz version 7.0.6 (20230106.0513)\n",
       " -->\n",
       "<!-- Pages: 1 -->\n",
       "<svg width=\"1163pt\" height=\"156pt\"\n",
       " viewBox=\"0.00 0.00 1163.00 156.00\" xmlns=\"http://www.w3.org/2000/svg\" xmlns:xlink=\"http://www.w3.org/1999/xlink\">\n",
       "<g id=\"graph0\" class=\"graph\" transform=\"scale(1 1) rotate(0) translate(4 152)\">\n",
       "<polygon fill=\"white\" stroke=\"none\" points=\"-4,4 -4,-152 1159,-152 1159,4 -4,4\"/>\n",
       "<!-- 2049343517136 -->\n",
       "<g id=\"node1\" class=\"node\">\n",
       "<title>2049343517136</title>\n",
       "<polygon fill=\"none\" stroke=\"black\" points=\"0,-111.5 0,-147.5 193,-147.5 193,-111.5 0,-111.5\"/>\n",
       "<text text-anchor=\"middle\" x=\"12\" y=\"-125.8\" font-family=\"Times New Roman,serif\" font-size=\"14.00\">b</text>\n",
       "<polyline fill=\"none\" stroke=\"black\" points=\"24,-111.5 24,-147.5\"/>\n",
       "<text text-anchor=\"middle\" x=\"67\" y=\"-125.8\" font-family=\"Times New Roman,serif\" font-size=\"14.00\">data &#45;3.0000</text>\n",
       "<polyline fill=\"none\" stroke=\"black\" points=\"110,-111.5 110,-147.5\"/>\n",
       "<text text-anchor=\"middle\" x=\"151.5\" y=\"-125.8\" font-family=\"Times New Roman,serif\" font-size=\"14.00\">grad 0.0000</text>\n",
       "</g>\n",
       "<!-- 2049343516112* -->\n",
       "<g id=\"node10\" class=\"node\">\n",
       "<title>2049343516112*</title>\n",
       "<ellipse fill=\"none\" stroke=\"black\" cx=\"256\" cy=\"-101.5\" rx=\"27\" ry=\"18\"/>\n",
       "<text text-anchor=\"middle\" x=\"256\" y=\"-97.8\" font-family=\"Times New Roman,serif\" font-size=\"14.00\">*</text>\n",
       "</g>\n",
       "<!-- 2049343517136&#45;&gt;2049343516112* -->\n",
       "<g id=\"edge8\" class=\"edge\">\n",
       "<title>2049343517136&#45;&gt;2049343516112*</title>\n",
       "<path fill=\"none\" stroke=\"black\" d=\"M192.75,-112.57C201.7,-110.98 210.35,-109.44 218.21,-108.04\"/>\n",
       "<polygon fill=\"black\" stroke=\"black\" points=\"218.75,-111.5 227.99,-106.3 217.53,-104.61 218.75,-111.5\"/>\n",
       "</g>\n",
       "<!-- 2049343518672 -->\n",
       "<g id=\"node2\" class=\"node\">\n",
       "<title>2049343518672</title>\n",
       "<polygon fill=\"none\" stroke=\"black\" points=\"319,-28.5 319,-64.5 517,-64.5 517,-28.5 319,-28.5\"/>\n",
       "<text text-anchor=\"middle\" x=\"330.5\" y=\"-42.8\" font-family=\"Times New Roman,serif\" font-size=\"14.00\">c</text>\n",
       "<polyline fill=\"none\" stroke=\"black\" points=\"342,-28.5 342,-64.5\"/>\n",
       "<text text-anchor=\"middle\" x=\"386\" y=\"-42.8\" font-family=\"Times New Roman,serif\" font-size=\"14.00\">data 10.0000</text>\n",
       "<polyline fill=\"none\" stroke=\"black\" points=\"430,-28.5 430,-64.5\"/>\n",
       "<text text-anchor=\"middle\" x=\"473.5\" y=\"-42.8\" font-family=\"Times New Roman,serif\" font-size=\"14.00\">grad &#45;2.0000</text>\n",
       "</g>\n",
       "<!-- 2049343518992+ -->\n",
       "<g id=\"node6\" class=\"node\">\n",
       "<title>2049343518992+</title>\n",
       "<ellipse fill=\"none\" stroke=\"black\" cx=\"580\" cy=\"-73.5\" rx=\"27\" ry=\"18\"/>\n",
       "<text text-anchor=\"middle\" x=\"580\" y=\"-69.8\" font-family=\"Times New Roman,serif\" font-size=\"14.00\">+</text>\n",
       "</g>\n",
       "<!-- 2049343518672&#45;&gt;2049343518992+ -->\n",
       "<g id=\"edge7\" class=\"edge\">\n",
       "<title>2049343518672&#45;&gt;2049343518992+</title>\n",
       "<path fill=\"none\" stroke=\"black\" d=\"M516.68,-62.98C525.67,-64.5 534.34,-65.96 542.22,-67.29\"/>\n",
       "<polygon fill=\"black\" stroke=\"black\" points=\"541.56,-70.73 552,-68.94 542.72,-63.83 541.56,-70.73\"/>\n",
       "</g>\n",
       "<!-- 2049343515344 -->\n",
       "<g id=\"node3\" class=\"node\">\n",
       "<title>2049343515344</title>\n",
       "<polygon fill=\"none\" stroke=\"black\" points=\"3,-56.5 3,-92.5 190,-92.5 190,-56.5 3,-56.5\"/>\n",
       "<text text-anchor=\"middle\" x=\"14.5\" y=\"-70.8\" font-family=\"Times New Roman,serif\" font-size=\"14.00\">a</text>\n",
       "<polyline fill=\"none\" stroke=\"black\" points=\"26,-56.5 26,-92.5\"/>\n",
       "<text text-anchor=\"middle\" x=\"66.5\" y=\"-70.8\" font-family=\"Times New Roman,serif\" font-size=\"14.00\">data 2.0000</text>\n",
       "<polyline fill=\"none\" stroke=\"black\" points=\"107,-56.5 107,-92.5\"/>\n",
       "<text text-anchor=\"middle\" x=\"148.5\" y=\"-70.8\" font-family=\"Times New Roman,serif\" font-size=\"14.00\">grad 0.0000</text>\n",
       "</g>\n",
       "<!-- 2049343515344&#45;&gt;2049343516112* -->\n",
       "<g id=\"edge6\" class=\"edge\">\n",
       "<title>2049343515344&#45;&gt;2049343516112*</title>\n",
       "<path fill=\"none\" stroke=\"black\" d=\"M189.57,-90.28C199.66,-92.01 209.45,-93.69 218.25,-95.2\"/>\n",
       "<polygon fill=\"black\" stroke=\"black\" points=\"217.63,-98.65 228.08,-96.89 218.82,-91.75 217.63,-98.65\"/>\n",
       "</g>\n",
       "<!-- 2049343518928 -->\n",
       "<g id=\"node4\" class=\"node\">\n",
       "<title>2049343518928</title>\n",
       "<polygon fill=\"none\" stroke=\"black\" points=\"644,-0.5 644,-36.5 834,-36.5 834,-0.5 644,-0.5\"/>\n",
       "<text text-anchor=\"middle\" x=\"654.5\" y=\"-14.8\" font-family=\"Times New Roman,serif\" font-size=\"14.00\">f</text>\n",
       "<polyline fill=\"none\" stroke=\"black\" points=\"665,-0.5 665,-36.5\"/>\n",
       "<text text-anchor=\"middle\" x=\"708\" y=\"-14.8\" font-family=\"Times New Roman,serif\" font-size=\"14.00\">data &#45;2.0000</text>\n",
       "<polyline fill=\"none\" stroke=\"black\" points=\"751,-0.5 751,-36.5\"/>\n",
       "<text text-anchor=\"middle\" x=\"792.5\" y=\"-14.8\" font-family=\"Times New Roman,serif\" font-size=\"14.00\">grad 4.0000</text>\n",
       "</g>\n",
       "<!-- 2049343519056* -->\n",
       "<g id=\"node8\" class=\"node\">\n",
       "<title>2049343519056*</title>\n",
       "<ellipse fill=\"none\" stroke=\"black\" cx=\"898\" cy=\"-45.5\" rx=\"27\" ry=\"18\"/>\n",
       "<text text-anchor=\"middle\" x=\"898\" y=\"-41.8\" font-family=\"Times New Roman,serif\" font-size=\"14.00\">*</text>\n",
       "</g>\n",
       "<!-- 2049343518928&#45;&gt;2049343519056* -->\n",
       "<g id=\"edge9\" class=\"edge\">\n",
       "<title>2049343518928&#45;&gt;2049343519056*</title>\n",
       "<path fill=\"none\" stroke=\"black\" d=\"M833.59,-34.6C842.95,-36.2 852,-37.76 860.21,-39.17\"/>\n",
       "<polygon fill=\"black\" stroke=\"black\" points=\"859.6,-42.62 870.05,-40.87 860.79,-35.72 859.6,-42.62\"/>\n",
       "</g>\n",
       "<!-- 2049343518992 -->\n",
       "<g id=\"node5\" class=\"node\">\n",
       "<title>2049343518992</title>\n",
       "<polygon fill=\"none\" stroke=\"black\" points=\"643,-55.5 643,-91.5 835,-91.5 835,-55.5 643,-55.5\"/>\n",
       "<text text-anchor=\"middle\" x=\"655\" y=\"-69.8\" font-family=\"Times New Roman,serif\" font-size=\"14.00\">d</text>\n",
       "<polyline fill=\"none\" stroke=\"black\" points=\"667,-55.5 667,-91.5\"/>\n",
       "<text text-anchor=\"middle\" x=\"707.5\" y=\"-69.8\" font-family=\"Times New Roman,serif\" font-size=\"14.00\">data 4.0000</text>\n",
       "<polyline fill=\"none\" stroke=\"black\" points=\"748,-55.5 748,-91.5\"/>\n",
       "<text text-anchor=\"middle\" x=\"791.5\" y=\"-69.8\" font-family=\"Times New Roman,serif\" font-size=\"14.00\">grad &#45;2.0000</text>\n",
       "</g>\n",
       "<!-- 2049343518992&#45;&gt;2049343519056* -->\n",
       "<g id=\"edge4\" class=\"edge\">\n",
       "<title>2049343518992&#45;&gt;2049343519056*</title>\n",
       "<path fill=\"none\" stroke=\"black\" d=\"M834.95,-56.57C843.87,-54.98 852.49,-53.44 860.33,-52.04\"/>\n",
       "<polygon fill=\"black\" stroke=\"black\" points=\"860.84,-55.5 870.07,-50.3 859.61,-48.61 860.84,-55.5\"/>\n",
       "</g>\n",
       "<!-- 2049343518992+&#45;&gt;2049343518992 -->\n",
       "<g id=\"edge1\" class=\"edge\">\n",
       "<title>2049343518992+&#45;&gt;2049343518992</title>\n",
       "<path fill=\"none\" stroke=\"black\" d=\"M607.28,-73.5C614.52,-73.5 622.85,-73.5 631.72,-73.5\"/>\n",
       "<polygon fill=\"black\" stroke=\"black\" points=\"631.69,-77 641.69,-73.5 631.69,-70 631.69,-77\"/>\n",
       "</g>\n",
       "<!-- 2049343519056 -->\n",
       "<g id=\"node7\" class=\"node\">\n",
       "<title>2049343519056</title>\n",
       "<polygon fill=\"none\" stroke=\"black\" points=\"961,-27.5 961,-63.5 1155,-63.5 1155,-27.5 961,-27.5\"/>\n",
       "<text text-anchor=\"middle\" x=\"973.5\" y=\"-41.8\" font-family=\"Times New Roman,serif\" font-size=\"14.00\">L</text>\n",
       "<polyline fill=\"none\" stroke=\"black\" points=\"986,-27.5 986,-63.5\"/>\n",
       "<text text-anchor=\"middle\" x=\"1029\" y=\"-41.8\" font-family=\"Times New Roman,serif\" font-size=\"14.00\">data &#45;8.0000</text>\n",
       "<polyline fill=\"none\" stroke=\"black\" points=\"1072,-27.5 1072,-63.5\"/>\n",
       "<text text-anchor=\"middle\" x=\"1113.5\" y=\"-41.8\" font-family=\"Times New Roman,serif\" font-size=\"14.00\">grad 1.0000</text>\n",
       "</g>\n",
       "<!-- 2049343519056*&#45;&gt;2049343519056 -->\n",
       "<g id=\"edge2\" class=\"edge\">\n",
       "<title>2049343519056*&#45;&gt;2049343519056</title>\n",
       "<path fill=\"none\" stroke=\"black\" d=\"M925.45,-45.5C932.67,-45.5 940.97,-45.5 949.82,-45.5\"/>\n",
       "<polygon fill=\"black\" stroke=\"black\" points=\"949.75,-49 959.75,-45.5 949.75,-42 949.75,-49\"/>\n",
       "</g>\n",
       "<!-- 2049343516112 -->\n",
       "<g id=\"node9\" class=\"node\">\n",
       "<title>2049343516112</title>\n",
       "<polygon fill=\"none\" stroke=\"black\" points=\"320,-83.5 320,-119.5 516,-119.5 516,-83.5 320,-83.5\"/>\n",
       "<text text-anchor=\"middle\" x=\"331.5\" y=\"-97.8\" font-family=\"Times New Roman,serif\" font-size=\"14.00\">e</text>\n",
       "<polyline fill=\"none\" stroke=\"black\" points=\"343,-83.5 343,-119.5\"/>\n",
       "<text text-anchor=\"middle\" x=\"386\" y=\"-97.8\" font-family=\"Times New Roman,serif\" font-size=\"14.00\">data &#45;6.0000</text>\n",
       "<polyline fill=\"none\" stroke=\"black\" points=\"429,-83.5 429,-119.5\"/>\n",
       "<text text-anchor=\"middle\" x=\"472.5\" y=\"-97.8\" font-family=\"Times New Roman,serif\" font-size=\"14.00\">grad &#45;2.0000</text>\n",
       "</g>\n",
       "<!-- 2049343516112&#45;&gt;2049343518992+ -->\n",
       "<g id=\"edge5\" class=\"edge\">\n",
       "<title>2049343516112&#45;&gt;2049343518992+</title>\n",
       "<path fill=\"none\" stroke=\"black\" d=\"M515.76,-84.57C525.05,-82.94 534.02,-81.37 542.14,-79.95\"/>\n",
       "<polygon fill=\"black\" stroke=\"black\" points=\"542.64,-83.42 551.89,-78.25 541.43,-76.52 542.64,-83.42\"/>\n",
       "</g>\n",
       "<!-- 2049343516112*&#45;&gt;2049343516112 -->\n",
       "<g id=\"edge3\" class=\"edge\">\n",
       "<title>2049343516112*&#45;&gt;2049343516112</title>\n",
       "<path fill=\"none\" stroke=\"black\" d=\"M283.42,-101.5C290.87,-101.5 299.46,-101.5 308.62,-101.5\"/>\n",
       "<polygon fill=\"black\" stroke=\"black\" points=\"308.53,-105 318.53,-101.5 308.53,-98 308.53,-105\"/>\n",
       "</g>\n",
       "</g>\n",
       "</svg>\n"
      ],
      "text/plain": [
       "<graphviz.graphs.Digraph at 0x1dd26b1e590>"
      ]
     },
     "execution_count": 62,
     "metadata": {},
     "output_type": "execute_result"
    }
   ],
   "source": [
    "draw_dot(L)"
   ]
  },
  {
   "cell_type": "markdown",
   "id": "f8030ef8-219e-4c83-b602-6c5e3ebe452f",
   "metadata": {},
   "source": [
    "### again using tha chain rule for the next layer"
   ]
  },
  {
   "cell_type": "markdown",
   "id": "e442be13-c02c-48dd-81ee-75cd0ca849ff",
   "metadata": {},
   "source": [
    " know:\n",
    " \n",
    " dL/de = -2.0\n",
    " \n",
    " go:\n",
    " \n",
    " dL/da\n",
    " \n",
    " Chan rule\n",
    " \n",
    " dz/dx = (dz/dy)*(dy/dx)\n",
    " \n",
    " dL/da = (dL/de)*(de/da)\n",
    " \n",
    " dL/da = -2.0*(de/da)\n",
    " \n",
    " e = a * b\n",
    "\n",
    " de/da = b how?\n",
    "\n",
    " (f(x+h)-f(x))/h\n",
    "\n",
    " ((a+h)*b - a*b)/h\n",
    "\n",
    " (a*b + h*b - a*b) / h\n",
    "\n",
    " (h*b)/h\n",
    "\n",
    " b\n",
    " \n",
    " b = -3\n",
    " \n",
    " dL/da = -2.0*(de/da)\n",
    " \n",
    " dL/da = -2.0*-3.0\n",
    " \n",
    " dL/da = 6.0\n",
    " \n",
    " than:\n",
    " \n",
    " dL/db = -2.0 * a\n",
    " \n",
    " a = 2\n",
    " \n",
    " dL/db = -2.0 * 2\n",
    " \n",
    " dL/db = -4.0\n",
    " "
   ]
  },
  {
   "cell_type": "markdown",
   "id": "7a76eb0c-8119-4937-9139-40a587e00ca2",
   "metadata": {},
   "source": [
    "### a+h the derivative of e by a equals -3 = (de/da)"
   ]
  },
  {
   "cell_type": "code",
   "execution_count": 75,
   "id": "5531514c-6b35-4ed0-a432-e0cd2d5010b6",
   "metadata": {},
   "outputs": [],
   "source": [
    "def lol():\n",
    "    \n",
    "    h = 0.001\n",
    "    \n",
    "    a = Value(2.0, label='a')\n",
    "    b = Value(-3.0, label='b')\n",
    "    c = Value(10.0, label='c')\n",
    "    e = a*b; e.label= 'e'\n",
    "    e1 = e.data\n",
    "    d = e+c; d.label = 'd'\n",
    "    d1 = d.data\n",
    "    f = Value(-2.0, label='f')\n",
    "    L = d*f; L.label = 'L'\n",
    "    L1 = L.data\n",
    "    \n",
    "    a = Value(2.0, label='a')\n",
    "    a.data += h\n",
    "    b = Value(-3.0, label='b')\n",
    "    c = Value(10.0, label='c')\n",
    "    e = a*b; e.label= 'e'\n",
    "    e2 = e.data\n",
    "    d = e+c; d.label = 'd'\n",
    "    d2 = d.data\n",
    "    f = Value(-2.0, label='f')\n",
    "    L = d*f; L.label = 'L'\n",
    "    L2 = L.data\n",
    "    \n",
    "    print('devivative of L by a:', (L2 - L1)/h)# 6.0\n",
    "    print('devivative of e by a:', (e2 - e1)/h)"
   ]
  },
  {
   "cell_type": "code",
   "execution_count": 76,
   "id": "b7ff27ac-b670-4e18-9c87-55490d0b18ce",
   "metadata": {},
   "outputs": [
    {
     "name": "stdout",
     "output_type": "stream",
     "text": [
      "devivative of L by a: 6.000000000000227\n",
      "devivative of e by a: -3.0000000000001137\n"
     ]
    }
   ],
   "source": [
    "lol()"
   ]
  },
  {
   "cell_type": "markdown",
   "id": "b4027a47-aa35-43be-8e90-2d95138ec04c",
   "metadata": {},
   "source": [
    "### by symmetry b+h the derivative of e by b equals 2 = (de/db)"
   ]
  },
  {
   "cell_type": "code",
   "execution_count": 77,
   "id": "0cd05aa2-9af7-4163-b199-9393d6109665",
   "metadata": {},
   "outputs": [],
   "source": [
    "def lol():\n",
    "    \n",
    "    h = 0.001\n",
    "    \n",
    "    a = Value(2.0, label='a')\n",
    "    b = Value(-3.0, label='b')\n",
    "    c = Value(10.0, label='c')\n",
    "    e = a*b; e.label= 'e'\n",
    "    e1 = e.data\n",
    "    d = e+c; d.label = 'd'\n",
    "    d1 = d.data\n",
    "    f = Value(-2.0, label='f')\n",
    "    L = d*f; L.label = 'L'\n",
    "    L1 = L.data\n",
    "    \n",
    "    a = Value(2.0, label='a')\n",
    "    b = Value(-3.0, label='b')\n",
    "    b.data += h\n",
    "    c = Value(10.0, label='c')\n",
    "    e = a*b; e.label= 'e'\n",
    "    e2 = e.data\n",
    "    d = e+c; d.label = 'd'\n",
    "    d2 = d.data\n",
    "    f = Value(-2.0, label='f')\n",
    "    L = d*f; L.label = 'L'\n",
    "    L2 = L.data\n",
    "    \n",
    "    print('devivative of L by b:', (L2 - L1)/h)# -4.0\n",
    "    print('devivative of e by b:', (e2 - e1)/h)"
   ]
  },
  {
   "cell_type": "code",
   "execution_count": 78,
   "id": "d72a3aff-1799-47af-835b-34cab331dce7",
   "metadata": {},
   "outputs": [
    {
     "name": "stdout",
     "output_type": "stream",
     "text": [
      "devivative of L by b: -3.9999999999995595\n",
      "devivative of e by b: 1.9999999999997797\n"
     ]
    }
   ],
   "source": [
    "lol()"
   ]
  },
  {
   "cell_type": "code",
   "execution_count": 79,
   "id": "58e44b3e-17c5-41ca-8a1d-a2ad29c8db87",
   "metadata": {},
   "outputs": [],
   "source": [
    "a.grad = -2.0 * -3.0\n",
    "b.grad = -2.0 * 2.0"
   ]
  },
  {
   "cell_type": "code",
   "execution_count": 80,
   "id": "b67af295-0fae-40a2-a922-1a596b40f780",
   "metadata": {},
   "outputs": [
    {
     "data": {
      "image/svg+xml": [
       "<?xml version=\"1.0\" encoding=\"UTF-8\" standalone=\"no\"?>\n",
       "<!DOCTYPE svg PUBLIC \"-//W3C//DTD SVG 1.1//EN\"\n",
       " \"http://www.w3.org/Graphics/SVG/1.1/DTD/svg11.dtd\">\n",
       "<!-- Generated by graphviz version 7.0.6 (20230106.0513)\n",
       " -->\n",
       "<!-- Pages: 1 -->\n",
       "<svg width=\"1167pt\" height=\"156pt\"\n",
       " viewBox=\"0.00 0.00 1167.00 156.00\" xmlns=\"http://www.w3.org/2000/svg\" xmlns:xlink=\"http://www.w3.org/1999/xlink\">\n",
       "<g id=\"graph0\" class=\"graph\" transform=\"scale(1 1) rotate(0) translate(4 152)\">\n",
       "<polygon fill=\"white\" stroke=\"none\" points=\"-4,4 -4,-152 1163,-152 1163,4 -4,4\"/>\n",
       "<!-- 2049343517136 -->\n",
       "<g id=\"node1\" class=\"node\">\n",
       "<title>2049343517136</title>\n",
       "<polygon fill=\"none\" stroke=\"black\" points=\"0,-111.5 0,-147.5 197,-147.5 197,-111.5 0,-111.5\"/>\n",
       "<text text-anchor=\"middle\" x=\"12\" y=\"-125.8\" font-family=\"Times New Roman,serif\" font-size=\"14.00\">b</text>\n",
       "<polyline fill=\"none\" stroke=\"black\" points=\"24,-111.5 24,-147.5\"/>\n",
       "<text text-anchor=\"middle\" x=\"67\" y=\"-125.8\" font-family=\"Times New Roman,serif\" font-size=\"14.00\">data &#45;3.0000</text>\n",
       "<polyline fill=\"none\" stroke=\"black\" points=\"110,-111.5 110,-147.5\"/>\n",
       "<text text-anchor=\"middle\" x=\"153.5\" y=\"-125.8\" font-family=\"Times New Roman,serif\" font-size=\"14.00\">grad &#45;4.0000</text>\n",
       "</g>\n",
       "<!-- 2049343516112* -->\n",
       "<g id=\"node10\" class=\"node\">\n",
       "<title>2049343516112*</title>\n",
       "<ellipse fill=\"none\" stroke=\"black\" cx=\"260\" cy=\"-101.5\" rx=\"27\" ry=\"18\"/>\n",
       "<text text-anchor=\"middle\" x=\"260\" y=\"-97.8\" font-family=\"Times New Roman,serif\" font-size=\"14.00\">*</text>\n",
       "</g>\n",
       "<!-- 2049343517136&#45;&gt;2049343516112* -->\n",
       "<g id=\"edge8\" class=\"edge\">\n",
       "<title>2049343517136&#45;&gt;2049343516112*</title>\n",
       "<path fill=\"none\" stroke=\"black\" d=\"M196.88,-112.41C205.84,-110.83 214.48,-109.32 222.33,-107.94\"/>\n",
       "<polygon fill=\"black\" stroke=\"black\" points=\"222.84,-111.4 232.08,-106.23 221.63,-104.51 222.84,-111.4\"/>\n",
       "</g>\n",
       "<!-- 2049343518672 -->\n",
       "<g id=\"node2\" class=\"node\">\n",
       "<title>2049343518672</title>\n",
       "<polygon fill=\"none\" stroke=\"black\" points=\"323,-28.5 323,-64.5 521,-64.5 521,-28.5 323,-28.5\"/>\n",
       "<text text-anchor=\"middle\" x=\"334.5\" y=\"-42.8\" font-family=\"Times New Roman,serif\" font-size=\"14.00\">c</text>\n",
       "<polyline fill=\"none\" stroke=\"black\" points=\"346,-28.5 346,-64.5\"/>\n",
       "<text text-anchor=\"middle\" x=\"390\" y=\"-42.8\" font-family=\"Times New Roman,serif\" font-size=\"14.00\">data 10.0000</text>\n",
       "<polyline fill=\"none\" stroke=\"black\" points=\"434,-28.5 434,-64.5\"/>\n",
       "<text text-anchor=\"middle\" x=\"477.5\" y=\"-42.8\" font-family=\"Times New Roman,serif\" font-size=\"14.00\">grad &#45;2.0000</text>\n",
       "</g>\n",
       "<!-- 2049343518992+ -->\n",
       "<g id=\"node6\" class=\"node\">\n",
       "<title>2049343518992+</title>\n",
       "<ellipse fill=\"none\" stroke=\"black\" cx=\"584\" cy=\"-73.5\" rx=\"27\" ry=\"18\"/>\n",
       "<text text-anchor=\"middle\" x=\"584\" y=\"-69.8\" font-family=\"Times New Roman,serif\" font-size=\"14.00\">+</text>\n",
       "</g>\n",
       "<!-- 2049343518672&#45;&gt;2049343518992+ -->\n",
       "<g id=\"edge7\" class=\"edge\">\n",
       "<title>2049343518672&#45;&gt;2049343518992+</title>\n",
       "<path fill=\"none\" stroke=\"black\" d=\"M520.68,-62.98C529.67,-64.5 538.34,-65.96 546.22,-67.29\"/>\n",
       "<polygon fill=\"black\" stroke=\"black\" points=\"545.56,-70.73 556,-68.94 546.72,-63.83 545.56,-70.73\"/>\n",
       "</g>\n",
       "<!-- 2049343515344 -->\n",
       "<g id=\"node3\" class=\"node\">\n",
       "<title>2049343515344</title>\n",
       "<polygon fill=\"none\" stroke=\"black\" points=\"5,-56.5 5,-92.5 192,-92.5 192,-56.5 5,-56.5\"/>\n",
       "<text text-anchor=\"middle\" x=\"16.5\" y=\"-70.8\" font-family=\"Times New Roman,serif\" font-size=\"14.00\">a</text>\n",
       "<polyline fill=\"none\" stroke=\"black\" points=\"28,-56.5 28,-92.5\"/>\n",
       "<text text-anchor=\"middle\" x=\"68.5\" y=\"-70.8\" font-family=\"Times New Roman,serif\" font-size=\"14.00\">data 2.0000</text>\n",
       "<polyline fill=\"none\" stroke=\"black\" points=\"109,-56.5 109,-92.5\"/>\n",
       "<text text-anchor=\"middle\" x=\"150.5\" y=\"-70.8\" font-family=\"Times New Roman,serif\" font-size=\"14.00\">grad 6.0000</text>\n",
       "</g>\n",
       "<!-- 2049343515344&#45;&gt;2049343516112* -->\n",
       "<g id=\"edge6\" class=\"edge\">\n",
       "<title>2049343515344&#45;&gt;2049343516112*</title>\n",
       "<path fill=\"none\" stroke=\"black\" d=\"M191.82,-90.13C202.57,-91.95 213.01,-93.72 222.33,-95.29\"/>\n",
       "<polygon fill=\"black\" stroke=\"black\" points=\"221.54,-98.71 231.98,-96.93 222.71,-91.81 221.54,-98.71\"/>\n",
       "</g>\n",
       "<!-- 2049343518928 -->\n",
       "<g id=\"node4\" class=\"node\">\n",
       "<title>2049343518928</title>\n",
       "<polygon fill=\"none\" stroke=\"black\" points=\"648,-0.5 648,-36.5 838,-36.5 838,-0.5 648,-0.5\"/>\n",
       "<text text-anchor=\"middle\" x=\"658.5\" y=\"-14.8\" font-family=\"Times New Roman,serif\" font-size=\"14.00\">f</text>\n",
       "<polyline fill=\"none\" stroke=\"black\" points=\"669,-0.5 669,-36.5\"/>\n",
       "<text text-anchor=\"middle\" x=\"712\" y=\"-14.8\" font-family=\"Times New Roman,serif\" font-size=\"14.00\">data &#45;2.0000</text>\n",
       "<polyline fill=\"none\" stroke=\"black\" points=\"755,-0.5 755,-36.5\"/>\n",
       "<text text-anchor=\"middle\" x=\"796.5\" y=\"-14.8\" font-family=\"Times New Roman,serif\" font-size=\"14.00\">grad 4.0000</text>\n",
       "</g>\n",
       "<!-- 2049343519056* -->\n",
       "<g id=\"node8\" class=\"node\">\n",
       "<title>2049343519056*</title>\n",
       "<ellipse fill=\"none\" stroke=\"black\" cx=\"902\" cy=\"-45.5\" rx=\"27\" ry=\"18\"/>\n",
       "<text text-anchor=\"middle\" x=\"902\" y=\"-41.8\" font-family=\"Times New Roman,serif\" font-size=\"14.00\">*</text>\n",
       "</g>\n",
       "<!-- 2049343518928&#45;&gt;2049343519056* -->\n",
       "<g id=\"edge9\" class=\"edge\">\n",
       "<title>2049343518928&#45;&gt;2049343519056*</title>\n",
       "<path fill=\"none\" stroke=\"black\" d=\"M837.59,-34.6C846.95,-36.2 856,-37.76 864.21,-39.17\"/>\n",
       "<polygon fill=\"black\" stroke=\"black\" points=\"863.6,-42.62 874.05,-40.87 864.79,-35.72 863.6,-42.62\"/>\n",
       "</g>\n",
       "<!-- 2049343518992 -->\n",
       "<g id=\"node5\" class=\"node\">\n",
       "<title>2049343518992</title>\n",
       "<polygon fill=\"none\" stroke=\"black\" points=\"647,-55.5 647,-91.5 839,-91.5 839,-55.5 647,-55.5\"/>\n",
       "<text text-anchor=\"middle\" x=\"659\" y=\"-69.8\" font-family=\"Times New Roman,serif\" font-size=\"14.00\">d</text>\n",
       "<polyline fill=\"none\" stroke=\"black\" points=\"671,-55.5 671,-91.5\"/>\n",
       "<text text-anchor=\"middle\" x=\"711.5\" y=\"-69.8\" font-family=\"Times New Roman,serif\" font-size=\"14.00\">data 4.0000</text>\n",
       "<polyline fill=\"none\" stroke=\"black\" points=\"752,-55.5 752,-91.5\"/>\n",
       "<text text-anchor=\"middle\" x=\"795.5\" y=\"-69.8\" font-family=\"Times New Roman,serif\" font-size=\"14.00\">grad &#45;2.0000</text>\n",
       "</g>\n",
       "<!-- 2049343518992&#45;&gt;2049343519056* -->\n",
       "<g id=\"edge4\" class=\"edge\">\n",
       "<title>2049343518992&#45;&gt;2049343519056*</title>\n",
       "<path fill=\"none\" stroke=\"black\" d=\"M838.95,-56.57C847.87,-54.98 856.49,-53.44 864.33,-52.04\"/>\n",
       "<polygon fill=\"black\" stroke=\"black\" points=\"864.84,-55.5 874.07,-50.3 863.61,-48.61 864.84,-55.5\"/>\n",
       "</g>\n",
       "<!-- 2049343518992+&#45;&gt;2049343518992 -->\n",
       "<g id=\"edge1\" class=\"edge\">\n",
       "<title>2049343518992+&#45;&gt;2049343518992</title>\n",
       "<path fill=\"none\" stroke=\"black\" d=\"M611.28,-73.5C618.52,-73.5 626.85,-73.5 635.72,-73.5\"/>\n",
       "<polygon fill=\"black\" stroke=\"black\" points=\"635.69,-77 645.69,-73.5 635.69,-70 635.69,-77\"/>\n",
       "</g>\n",
       "<!-- 2049343519056 -->\n",
       "<g id=\"node7\" class=\"node\">\n",
       "<title>2049343519056</title>\n",
       "<polygon fill=\"none\" stroke=\"black\" points=\"965,-27.5 965,-63.5 1159,-63.5 1159,-27.5 965,-27.5\"/>\n",
       "<text text-anchor=\"middle\" x=\"977.5\" y=\"-41.8\" font-family=\"Times New Roman,serif\" font-size=\"14.00\">L</text>\n",
       "<polyline fill=\"none\" stroke=\"black\" points=\"990,-27.5 990,-63.5\"/>\n",
       "<text text-anchor=\"middle\" x=\"1033\" y=\"-41.8\" font-family=\"Times New Roman,serif\" font-size=\"14.00\">data &#45;8.0000</text>\n",
       "<polyline fill=\"none\" stroke=\"black\" points=\"1076,-27.5 1076,-63.5\"/>\n",
       "<text text-anchor=\"middle\" x=\"1117.5\" y=\"-41.8\" font-family=\"Times New Roman,serif\" font-size=\"14.00\">grad 1.0000</text>\n",
       "</g>\n",
       "<!-- 2049343519056*&#45;&gt;2049343519056 -->\n",
       "<g id=\"edge2\" class=\"edge\">\n",
       "<title>2049343519056*&#45;&gt;2049343519056</title>\n",
       "<path fill=\"none\" stroke=\"black\" d=\"M929.45,-45.5C936.67,-45.5 944.97,-45.5 953.82,-45.5\"/>\n",
       "<polygon fill=\"black\" stroke=\"black\" points=\"953.75,-49 963.75,-45.5 953.75,-42 953.75,-49\"/>\n",
       "</g>\n",
       "<!-- 2049343516112 -->\n",
       "<g id=\"node9\" class=\"node\">\n",
       "<title>2049343516112</title>\n",
       "<polygon fill=\"none\" stroke=\"black\" points=\"324,-83.5 324,-119.5 520,-119.5 520,-83.5 324,-83.5\"/>\n",
       "<text text-anchor=\"middle\" x=\"335.5\" y=\"-97.8\" font-family=\"Times New Roman,serif\" font-size=\"14.00\">e</text>\n",
       "<polyline fill=\"none\" stroke=\"black\" points=\"347,-83.5 347,-119.5\"/>\n",
       "<text text-anchor=\"middle\" x=\"390\" y=\"-97.8\" font-family=\"Times New Roman,serif\" font-size=\"14.00\">data &#45;6.0000</text>\n",
       "<polyline fill=\"none\" stroke=\"black\" points=\"433,-83.5 433,-119.5\"/>\n",
       "<text text-anchor=\"middle\" x=\"476.5\" y=\"-97.8\" font-family=\"Times New Roman,serif\" font-size=\"14.00\">grad &#45;2.0000</text>\n",
       "</g>\n",
       "<!-- 2049343516112&#45;&gt;2049343518992+ -->\n",
       "<g id=\"edge5\" class=\"edge\">\n",
       "<title>2049343516112&#45;&gt;2049343518992+</title>\n",
       "<path fill=\"none\" stroke=\"black\" d=\"M519.76,-84.57C529.05,-82.94 538.02,-81.37 546.14,-79.95\"/>\n",
       "<polygon fill=\"black\" stroke=\"black\" points=\"546.64,-83.42 555.89,-78.25 545.43,-76.52 546.64,-83.42\"/>\n",
       "</g>\n",
       "<!-- 2049343516112*&#45;&gt;2049343516112 -->\n",
       "<g id=\"edge3\" class=\"edge\">\n",
       "<title>2049343516112*&#45;&gt;2049343516112</title>\n",
       "<path fill=\"none\" stroke=\"black\" d=\"M287.42,-101.5C294.87,-101.5 303.46,-101.5 312.62,-101.5\"/>\n",
       "<polygon fill=\"black\" stroke=\"black\" points=\"312.53,-105 322.53,-101.5 312.53,-98 312.53,-105\"/>\n",
       "</g>\n",
       "</g>\n",
       "</svg>\n"
      ],
      "text/plain": [
       "<graphviz.graphs.Digraph at 0x1dd26c97e90>"
      ]
     },
     "execution_count": 80,
     "metadata": {},
     "output_type": "execute_result"
    }
   ],
   "source": [
    "draw_dot(L)"
   ]
  },
  {
   "cell_type": "code",
   "execution_count": 111,
   "id": "0cccf596-62c6-474b-a668-045c0cde7b01",
   "metadata": {},
   "outputs": [],
   "source": [
    "a.data = 2.0\n",
    "b.data = -3.0\n",
    "c.data = 10.0\n",
    "d.data = 4.0\n",
    "e.data = -6.0\n",
    "f.data = -2.0"
   ]
  },
  {
   "cell_type": "code",
   "execution_count": 112,
   "id": "09be2ff4-77b4-4875-a720-4aa59d54499e",
   "metadata": {},
   "outputs": [
    {
     "name": "stdout",
     "output_type": "stream",
     "text": [
      "-7.286496\n"
     ]
    }
   ],
   "source": [
    "a.data += 0.01 * a.grad\n",
    "b.data += 0.01 * b.grad\n",
    "c.data += 0.01 * c.grad\n",
    "f.data += 0.01 * f.grad\n",
    "\n",
    "e = a * b\n",
    "d = e + c\n",
    "L = d * f\n",
    "\n",
    "print (L.data)"
   ]
  },
  {
   "cell_type": "code",
   "execution_count": null,
   "id": "4c0f406a-29ec-40eb-9d06-8c11feef3442",
   "metadata": {},
   "outputs": [],
   "source": []
  },
  {
   "cell_type": "code",
   "execution_count": null,
   "id": "6ae76e88-969f-4dac-9ccd-f7a347da9bf6",
   "metadata": {},
   "outputs": [],
   "source": []
  }
 ],
 "metadata": {
  "kernelspec": {
   "display_name": "Python 3 (ipykernel)",
   "language": "python",
   "name": "python3"
  },
  "language_info": {
   "codemirror_mode": {
    "name": "ipython",
    "version": 3
   },
   "file_extension": ".py",
   "mimetype": "text/x-python",
   "name": "python",
   "nbconvert_exporter": "python",
   "pygments_lexer": "ipython3",
   "version": "3.11.1"
  }
 },
 "nbformat": 4,
 "nbformat_minor": 5
}
