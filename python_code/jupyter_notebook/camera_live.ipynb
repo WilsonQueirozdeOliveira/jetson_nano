{
 "cells": [
  {
   "cell_type": "code",
   "execution_count": 3,
   "id": "d17ff596",
   "metadata": {
    "scrolled": true
   },
   "outputs": [
    {
     "name": "stdout",
     "output_type": "stream",
     "text": [
      "Released Video Resource from KeyboardInterrupt\n"
     ]
    }
   ],
   "source": [
    "import numpy as np\n",
    "import cv2\n",
    "from IPython import display\n",
    "from PIL import Image\n",
    "import matplotlib.pyplot as py\n",
    "%matplotlib inline\n",
    "\n",
    "def showVideo():\n",
    "    try:\n",
    "        cap = cv2.VideoCapture('nvarguscamerasrc ! video/x-raw(memory:NVMM), width=3280, height=2464, format=NV12, framerate=21/1 ! nvvidconv flip-method=0 ! video/x-raw, width=640, height=480, format=BGRx ! videoconvert ! video/x-raw, format=BGR ! appsink')\n",
    "    except:\n",
    "        print(\"Cannot Open Device\")\n",
    "    try:\n",
    "        ret, frame = cap.read()\n",
    "        \n",
    "        while(ret==True):\n",
    "            ret, frame = cap.read()\n",
    "            \n",
    "            if not ret:\n",
    "                cap.release()\n",
    "                print (\"Released Video Resource\")\n",
    "                break\n",
    "                \n",
    "            _,ret_array = cv2.imencode('.jpg', frame) \n",
    "            i = display.Image(data=ret_array)\n",
    "            display.display(i)\n",
    "            display.clear_output(wait=True)\n",
    "            \n",
    "    except KeyboardInterrupt:\n",
    "        cap.release()\n",
    "        print(\"Released Video Resource from KeyboardInterrupt\")\n",
    "    pass\n",
    "showVideo()"
   ]
  },
  {
   "cell_type": "code",
   "execution_count": null,
   "id": "d7fc9d54",
   "metadata": {},
   "outputs": [],
   "source": []
  }
 ],
 "metadata": {
  "kernelspec": {
   "display_name": "Python 3",
   "language": "python",
   "name": "python3"
  },
  "language_info": {
   "codemirror_mode": {
    "name": "ipython",
    "version": 3
   },
   "file_extension": ".py",
   "mimetype": "text/x-python",
   "name": "python",
   "nbconvert_exporter": "python",
   "pygments_lexer": "ipython3",
   "version": "3.6.9"
  }
 },
 "nbformat": 4,
 "nbformat_minor": 5
}
