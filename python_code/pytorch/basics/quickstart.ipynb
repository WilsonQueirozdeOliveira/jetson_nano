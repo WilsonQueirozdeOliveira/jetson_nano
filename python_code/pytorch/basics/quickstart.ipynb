{
 "cells": [
  {
   "cell_type": "markdown",
   "id": "81e5e4a6",
   "metadata": {},
   "source": [
    "# QUICKSTART"
   ]
  },
  {
   "cell_type": "markdown",
   "id": "b6e98252",
   "metadata": {},
   "source": [
    "# Working with data"
   ]
  },
  {
   "cell_type": "code",
   "execution_count": 1,
   "id": "27f70766",
   "metadata": {},
   "outputs": [],
   "source": [
    "import torch\n",
    "from torch import nn\n",
    "from torch.utils.data import DataLoader\n",
    "from torchvision import datasets\n",
    "from torchvision.transforms import ToTensor, Lambda, Compose\n",
    "import matplotlib.pyplot as plt"
   ]
  },
  {
   "cell_type": "markdown",
   "id": "c5bf2356",
   "metadata": {},
   "source": [
    "Download training data from opem datasets."
   ]
  },
  {
   "cell_type": "code",
   "execution_count": 2,
   "id": "2818c3a2",
   "metadata": {},
   "outputs": [],
   "source": [
    "training_data = datasets.FashionMNIST(\n",
    "    root=\"data\",\n",
    "    train=True,\n",
    "    download=True,\n",
    "    transform=ToTensor(),\n",
    ")"
   ]
  },
  {
   "cell_type": "markdown",
   "id": "905ad514",
   "metadata": {},
   "source": [
    "Download test data from open datasets"
   ]
  },
  {
   "cell_type": "code",
   "execution_count": 3,
   "id": "dc37905e",
   "metadata": {},
   "outputs": [],
   "source": [
    "test_data = datasets.FashionMNIST(\n",
    "    root=\"data\",\n",
    "    train=False,\n",
    "    download=True,\n",
    "    transform=ToTensor(),\n",
    ")"
   ]
  },
  {
   "cell_type": "code",
   "execution_count": 4,
   "id": "f05170e9",
   "metadata": {},
   "outputs": [],
   "source": [
    "batch_size = 64"
   ]
  },
  {
   "cell_type": "markdown",
   "id": "b0f6916b",
   "metadata": {},
   "source": [
    "Create data loaders."
   ]
  },
  {
   "cell_type": "code",
   "execution_count": 5,
   "id": "9207a277",
   "metadata": {},
   "outputs": [
    {
     "name": "stdout",
     "output_type": "stream",
     "text": [
      "Shape of X [N, C, H, W] torch.Size([64, 1, 28, 28])\n",
      "Shape of y:  torch.Size([64]) torch.int64\n"
     ]
    }
   ],
   "source": [
    "train_dataloader = DataLoader(training_data, batch_size=batch_size)\n",
    "test_dataloader = DataLoader(test_data, batch_size=batch_size)\n",
    "\n",
    "for X, y in test_dataloader:\n",
    "    print(\"Shape of X [N, C, H, W]\", X.shape)\n",
    "    print(\"Shape of y: \", y.shape, y.dtype)\n",
    "    break"
   ]
  },
  {
   "cell_type": "markdown",
   "id": "16d5cd1e",
   "metadata": {},
   "source": [
    "# Creating Models"
   ]
  },
  {
   "cell_type": "markdown",
   "id": "cc9e908c",
   "metadata": {},
   "source": [
    "Get cpu or gpu device for training."
   ]
  },
  {
   "cell_type": "code",
   "execution_count": 6,
   "id": "141877e2",
   "metadata": {},
   "outputs": [
    {
     "name": "stdout",
     "output_type": "stream",
     "text": [
      "Using cuda device\n"
     ]
    }
   ],
   "source": [
    "device = \"cuda\" if torch.cuda.is_available() else \"cpu\"\n",
    "print(f\"Using {device} device\")"
   ]
  },
  {
   "cell_type": "markdown",
   "id": "e043871c",
   "metadata": {},
   "source": [
    "Define model"
   ]
  },
  {
   "cell_type": "code",
   "execution_count": 7,
   "id": "80f9f6c2",
   "metadata": {},
   "outputs": [
    {
     "name": "stdout",
     "output_type": "stream",
     "text": [
      "NeuralNetwork(\n",
      "  (flatten): Flatten(start_dim=1, end_dim=-1)\n",
      "  (linear_relu_stack): Sequential(\n",
      "    (0): Linear(in_features=784, out_features=512, bias=True)\n",
      "    (1): ReLU()\n",
      "    (2): Linear(in_features=512, out_features=512, bias=True)\n",
      "    (3): ReLU()\n",
      "    (4): Linear(in_features=512, out_features=10, bias=True)\n",
      "  )\n",
      ")\n"
     ]
    }
   ],
   "source": [
    "class NeuralNetwork(nn.Module):\n",
    "    def __init__(self):\n",
    "        super(NeuralNetwork, self).__init__()\n",
    "        self.flatten = nn.Flatten()\n",
    "        self.linear_relu_stack = nn.Sequential(\n",
    "            nn.Linear(28*28, 512),\n",
    "            nn.ReLU(),\n",
    "            nn.Linear(512, 512),\n",
    "            nn.ReLU(),\n",
    "            nn.Linear(512, 10)\n",
    "        )\n",
    "    \n",
    "    def forward(self,x):\n",
    "        x = self.flatten(x)\n",
    "        logits = self.linear_relu_stack(x)\n",
    "        return logits\n",
    "    \n",
    "model = NeuralNetwork().to(device)\n",
    "print(model)"
   ]
  },
  {
   "cell_type": "markdown",
   "id": "0c5890c3",
   "metadata": {},
   "source": [
    "Optimizing the Model Parameters"
   ]
  },
  {
   "cell_type": "code",
   "execution_count": 8,
   "id": "74c4c013",
   "metadata": {},
   "outputs": [],
   "source": [
    "loss_fn = nn.CrossEntropyLoss()\n",
    "optimizer = torch.optim.SGD(model.parameters(), lr=1e-3)"
   ]
  },
  {
   "cell_type": "code",
   "execution_count": 9,
   "id": "c20d6031",
   "metadata": {},
   "outputs": [],
   "source": [
    "def train(dataloader, model, loss_fn, optimizer):\n",
    "    size = len(dataloader.dataset)\n",
    "    model.train()\n",
    "    for batch, (X, y) in enumerate(dataloader):\n",
    "        X, y = X.to(device), y.to(device)\n",
    "        \n",
    "        # Compute prediction error\n",
    "        pred = model(X)\n",
    "        loss = loss_fn(pred, y)\n",
    "        \n",
    "        # Backpropagation\n",
    "        optimizer.zero_grad()\n",
    "        loss.backward()\n",
    "        optimizer.step()\n",
    "        \n",
    "        if batch % 100 == 0:\n",
    "            loss, current = loss.item(), batch * len(X)\n",
    "            print(f\"loss: {loss:7f} [{current:>5d}/{size:>5d}]\")"
   ]
  },
  {
   "cell_type": "code",
   "execution_count": 10,
   "id": "6a5b0101",
   "metadata": {},
   "outputs": [],
   "source": [
    "def test(dataloader, model, loss_fn):\n",
    "    size = len(dataloader.dataset)\n",
    "    num_batches = len(dataloader)\n",
    "    model.eval()\n",
    "    test_loss, correct = 0, 0\n",
    "    with torch.no_grad():\n",
    "        for X, y in dataloader:\n",
    "            X, y = X.to(device), y.to(device)\n",
    "            pred = model(X)\n",
    "            test_loss += loss_fn(pred, y).item()\n",
    "            correct += (pred.argmax(1) == y).type(torch.float).sum().item()\n",
    "    test_loss /= num_batches\n",
    "    correct /= size\n",
    "    print(f\"Test Error: \\n Accuracy: {(100*correct):>0.1f}%, Avg loss:{test_loss:>8f} \\n\")"
   ]
  },
  {
   "cell_type": "code",
   "execution_count": 11,
   "id": "cadddd8c",
   "metadata": {},
   "outputs": [
    {
     "name": "stdout",
     "output_type": "stream",
     "text": [
      "Epoch 1\n",
      "------------------------------------------------------------------------------\n",
      "loss: 2.293419 [    0/60000]\n",
      "loss: 2.280890 [ 6400/60000]\n",
      "loss: 2.265068 [12800/60000]\n",
      "loss: 2.261728 [19200/60000]\n",
      "loss: 2.252752 [25600/60000]\n",
      "loss: 2.215183 [32000/60000]\n",
      "loss: 2.219103 [38400/60000]\n",
      "loss: 2.181871 [44800/60000]\n",
      "loss: 2.178761 [51200/60000]\n",
      "loss: 2.147810 [57600/60000]\n",
      "Test Error: \n",
      " Accuracy: 47.0%, Avg loss:2.145873 \n",
      "\n",
      "Epoch 2\n",
      "------------------------------------------------------------------------------\n",
      "loss: 2.155030 [    0/60000]\n",
      "loss: 2.139872 [ 6400/60000]\n",
      "loss: 2.081553 [12800/60000]\n",
      "loss: 2.097707 [19200/60000]\n",
      "loss: 2.053926 [25600/60000]\n",
      "loss: 1.982467 [32000/60000]\n",
      "loss: 2.011964 [38400/60000]\n",
      "loss: 1.926683 [44800/60000]\n",
      "loss: 1.932308 [51200/60000]\n",
      "loss: 1.852242 [57600/60000]\n",
      "Test Error: \n",
      " Accuracy: 58.7%, Avg loss:1.860343 \n",
      "\n",
      "Epoch 3\n",
      "------------------------------------------------------------------------------\n",
      "loss: 1.895364 [    0/60000]\n",
      "loss: 1.854502 [ 6400/60000]\n",
      "loss: 1.741974 [12800/60000]\n",
      "loss: 1.782439 [19200/60000]\n",
      "loss: 1.679994 [25600/60000]\n",
      "loss: 1.627900 [32000/60000]\n",
      "loss: 1.651572 [38400/60000]\n",
      "loss: 1.555688 [44800/60000]\n",
      "loss: 1.579144 [51200/60000]\n",
      "loss: 1.469270 [57600/60000]\n",
      "Test Error: \n",
      " Accuracy: 63.2%, Avg loss:1.498189 \n",
      "\n",
      "Epoch 4\n",
      "------------------------------------------------------------------------------\n",
      "loss: 1.564849 [    0/60000]\n",
      "loss: 1.520964 [ 6400/60000]\n",
      "loss: 1.384398 [12800/60000]\n",
      "loss: 1.453348 [19200/60000]\n",
      "loss: 1.345323 [25600/60000]\n",
      "loss: 1.338753 [32000/60000]\n",
      "loss: 1.353784 [38400/60000]\n",
      "loss: 1.281786 [44800/60000]\n",
      "loss: 1.314935 [51200/60000]\n",
      "loss: 1.212763 [57600/60000]\n",
      "Test Error: \n",
      " Accuracy: 64.6%, Avg loss:1.245263 \n",
      "\n",
      "Epoch 5\n",
      "------------------------------------------------------------------------------\n",
      "loss: 1.320170 [    0/60000]\n",
      "loss: 1.294359 [ 6400/60000]\n",
      "loss: 1.141057 [12800/60000]\n",
      "loss: 1.242579 [19200/60000]\n",
      "loss: 1.126437 [25600/60000]\n",
      "loss: 1.147298 [32000/60000]\n",
      "loss: 1.171002 [38400/60000]\n",
      "loss: 1.108926 [44800/60000]\n",
      "loss: 1.146682 [51200/60000]\n",
      "loss: 1.061012 [57600/60000]\n",
      "Test Error: \n",
      " Accuracy: 65.7%, Avg loss:1.086071 \n",
      "\n",
      "Done!\n"
     ]
    }
   ],
   "source": [
    "epochs = 5\n",
    "for t in range(epochs):\n",
    "    print(f\"Epoch {t+1}\\n------------------------------------------------------------------------------\")\n",
    "    train(train_dataloader, model, loss_fn, optimizer)\n",
    "    test(test_dataloader, model, loss_fn)\n",
    "print(\"Done!\")"
   ]
  },
  {
   "cell_type": "markdown",
   "id": "80a58100",
   "metadata": {},
   "source": [
    "Saving Models"
   ]
  },
  {
   "cell_type": "code",
   "execution_count": 12,
   "id": "b88808b2",
   "metadata": {},
   "outputs": [
    {
     "name": "stdout",
     "output_type": "stream",
     "text": [
      "Saved PyTorch Model State to model.pth\n"
     ]
    }
   ],
   "source": [
    "torch.save(model.state_dict(), \"model.pth\")\n",
    "print(\"Saved PyTorch Model State to model.pth\")"
   ]
  },
  {
   "cell_type": "markdown",
   "id": "5409af54",
   "metadata": {},
   "source": [
    "Loading Models"
   ]
  },
  {
   "cell_type": "code",
   "execution_count": 13,
   "id": "0f22baff",
   "metadata": {},
   "outputs": [
    {
     "data": {
      "text/plain": [
       "<All keys matched successfully>"
      ]
     },
     "execution_count": 13,
     "metadata": {},
     "output_type": "execute_result"
    }
   ],
   "source": [
    "model = NeuralNetwork()\n",
    "model.load_state_dict(torch.load(\"model.pth\"))"
   ]
  },
  {
   "cell_type": "markdown",
   "id": "d9547769",
   "metadata": {},
   "source": [
    "Make predictions"
   ]
  },
  {
   "cell_type": "code",
   "execution_count": 21,
   "id": "b3a40f7a",
   "metadata": {},
   "outputs": [
    {
     "name": "stdout",
     "output_type": "stream",
     "text": [
      "Predicted: \"Ankle boot\", Actual: \"Ankle boot\"\n"
     ]
    }
   ],
   "source": [
    "classes = [\n",
    "    \"T-shirt/top\",\n",
    "    \"Trouser\",\n",
    "    \"Pullover\",\n",
    "    \"Dress\",\n",
    "    \"Coat\",\n",
    "    \"Sandal\",\n",
    "    \"Shirt\",\n",
    "    \"Sneaker\",\n",
    "    \"Bag\",\n",
    "    \"Ankle boot\",\n",
    "]\n",
    "\n",
    "model.eval()\n",
    "x, y = test_data[0][0], test_data[0][1]\n",
    "with torch.no_grad():\n",
    "    pred = model(x)\n",
    "    predicted, actual = classes[pred[0].argmax(0)], classes[y]\n",
    "    print(f'Predicted: \"{predicted}\", Actual: \"{actual}\"')"
   ]
  }
 ],
 "metadata": {
  "kernelspec": {
   "display_name": "Python 3",
   "language": "python",
   "name": "python3"
  },
  "language_info": {
   "codemirror_mode": {
    "name": "ipython",
    "version": 3
   },
   "file_extension": ".py",
   "mimetype": "text/x-python",
   "name": "python",
   "nbconvert_exporter": "python",
   "pygments_lexer": "ipython3",
   "version": "3.6.9"
  }
 },
 "nbformat": 4,
 "nbformat_minor": 5
}
