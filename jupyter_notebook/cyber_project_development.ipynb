{
 "cells": [
  {
   "cell_type": "markdown",
   "id": "4613d4eb",
   "metadata": {},
   "source": [
    "# Dependeces"
   ]
  },
  {
   "cell_type": "code",
   "execution_count": 3,
   "id": "d36e8080",
   "metadata": {},
   "outputs": [],
   "source": [
    "import os\n",
    "import time\n",
    "from  GPS_VK2828U7G5LF import init_gps_GPRMC,read_gps\n",
    "from mpu6050 import mpu6050\n",
    "import ADS1115\n",
    "import board\n",
    "import busio\n",
    "import Jetson.GPIO as GPIO\n",
    "import sys\n",
    "import cv2\n",
    "\n",
    "sys.path.append('/opt/nvidia/jetson-gpio/lib/python')\n",
    "sys.path.append('/opt/nvidia/jetson-gpio/lib/python/Jetson/GPIO')\n",
    "\n",
    "from pca9685_driver import Device"
   ]
  },
  {
   "cell_type": "markdown",
   "id": "e82f037e",
   "metadata": {},
   "source": [
    "# OLED 128x64"
   ]
  },
  {
   "cell_type": "code",
   "execution_count": 4,
   "id": "e14fda19",
   "metadata": {},
   "outputs": [],
   "source": [
    "from luma.core.interface.serial import i2c, spi, pcf8574\n",
    "from luma.core.interface.parallel import bitbang_6800\n",
    "from luma.core.render import canvas\n",
    "from luma.oled.device import ssd1306, ssd1309, ssd1325, ssd1331, sh1106, ws0010\n",
    "\n",
    "# rev.1 users set port=0\n",
    "# substitute spi(device=0, port=0) below if using that interface\n",
    "# substitute bitbang_6800(RS=7, E=8, PINS=[25,24,23,27]) below if using that interface\n",
    "serial = i2c(port=1, address=0x3C)\n",
    "\n",
    "# substitute ssd1331(...) or sh1106(...) below if using that device\n",
    "device = ssd1306(serial)"
   ]
  },
  {
   "cell_type": "code",
   "execution_count": 5,
   "id": "3ba8d13a",
   "metadata": {},
   "outputs": [],
   "source": [
    "with canvas(device) as draw:\n",
    "    draw.rectangle(device.bounding_box, outline=\"white\", fill=\"black\")\n",
    "    draw.text((30, 40), \"Hello World\", fill=\"white\")"
   ]
  }
 ],
 "metadata": {
  "kernelspec": {
   "display_name": "Python 3",
   "language": "python",
   "name": "python3"
  },
  "language_info": {
   "codemirror_mode": {
    "name": "ipython",
    "version": 3
   },
   "file_extension": ".py",
   "mimetype": "text/x-python",
   "name": "python",
   "nbconvert_exporter": "python",
   "pygments_lexer": "ipython3",
   "version": "3.6.9"
  }
 },
 "nbformat": 4,
 "nbformat_minor": 5
}
