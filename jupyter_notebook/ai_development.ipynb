{
 "cells": [
  {
   "cell_type": "markdown",
   "id": "4613d4eb",
   "metadata": {},
   "source": [
    "# Dependeces for cyber nano"
   ]
  },
  {
   "cell_type": "code",
   "execution_count": 6,
   "id": "d36e8080",
   "metadata": {},
   "outputs": [],
   "source": [
    "import os\n",
    "import time\n",
    "from  GPS_VK2828U7G5LF import init_gps_GPRMC,read_gps\n",
    "from mpu6050 import mpu6050\n",
    "import ADS1115\n",
    "import board\n",
    "import busio\n",
    "import Jetson.GPIO as GPIO\n",
    "import sys\n",
    "import cv2\n",
    "from IPython import display\n",
    "\n",
    "sys.path.append('/opt/nvidia/jetson-gpio/lib/python')\n",
    "sys.path.append('/opt/nvidia/jetson-gpio/lib/python/Jetson/GPIO')\n",
    "\n",
    "from pca9685_driver import Device"
   ]
  },
  {
   "cell_type": "markdown",
   "id": "5e1139c1",
   "metadata": {},
   "source": [
    "# Accelerometer data"
   ]
  },
  {
   "cell_type": "code",
   "execution_count": 3,
   "id": "3bad6765",
   "metadata": {
    "scrolled": false
   },
   "outputs": [
    {
     "name": "stdout",
     "output_type": "stream",
     "text": [
      "Accelerometer data\n",
      "x: 0.40940848388671874\n",
      "y: -0.3016694091796875\n",
      "z: 9.967061511230469\n",
      "Gyroscope data\n",
      "x: -0.061068702290076333\n",
      "y: 1.5190839694656488\n",
      "z: -0.5114503816793893\n",
      "Temp: 42.55352941176471 C\n"
     ]
    }
   ],
   "source": [
    "#!/usr/bin/env python\n",
    "\"\"\"Released under the MIT License\n",
    "Copyright 2015, 2016 MrTijn/Tijndagamer\n",
    "\"\"\"\n",
    "\n",
    "from mpu6050 import mpu6050\n",
    "from time import sleep\n",
    "\n",
    "sensor = mpu6050(0x68)\n",
    "\n",
    "#while True:\n",
    "accel_data = sensor.get_accel_data()\n",
    "gyro_data = sensor.get_gyro_data()\n",
    "temp = sensor.get_temp()\n",
    "\n",
    "print(\"Accelerometer data\")\n",
    "print(\"x: \" + str(accel_data['x']))\n",
    "print(\"y: \" + str(accel_data['y']))\n",
    "print(\"z: \" + str(accel_data['z']))\n",
    "\n",
    "print(\"Gyroscope data\")\n",
    "print(\"x: \" + str(gyro_data['x']))\n",
    "print(\"y: \" + str(gyro_data['y']))\n",
    "print(\"z: \" + str(gyro_data['z']))\n",
    "\n",
    "print(\"Temp: \" + str(temp) + \" C\")\n",
    "sleep(0.1)\n",
    "    "
   ]
  },
  {
   "cell_type": "markdown",
   "id": "88364456",
   "metadata": {},
   "source": [
    "# ADC"
   ]
  },
  {
   "cell_type": "code",
   "execution_count": 4,
   "id": "ad42497b",
   "metadata": {
    "scrolled": true
   },
   "outputs": [
    {
     "name": "stdout",
     "output_type": "stream",
     "text": [
      "2403 mV mesuré sur AN0\n"
     ]
    }
   ],
   "source": [
    "import ADS1115\n",
    "import time\n",
    "\n",
    "ads = ADS1115.ADS1115()\n",
    "\n",
    "#while True:\n",
    "volt = ads.readADCSingleEnded()\n",
    "\n",
    "print(\"{:.0f} mV mesuré sur AN0\".format(volt))\n",
    "\n",
    "time.sleep(0.1)"
   ]
  },
  {
   "cell_type": "markdown",
   "id": "689d841e",
   "metadata": {},
   "source": [
    "# GPS"
   ]
  },
  {
   "cell_type": "code",
   "execution_count": 4,
   "id": "5ebbf53d",
   "metadata": {
    "scrolled": false
   },
   "outputs": [
    {
     "name": "stdout",
     "output_type": "stream",
     "text": [
      "0\n"
     ]
    }
   ],
   "source": [
    "from  GPS_VK2828U7G5LF import init_gps_GPRMC,read_gps,read_velocity\n",
    "try:\n",
    "    #read_gps()\n",
    "    #print(\"GPS:{}\\n\".format(read_gps()))\n",
    "    read_velocity()\n",
    "except:\n",
    "    print('0')\n"
   ]
  },
  {
   "cell_type": "code",
   "execution_count": 2,
   "id": "351fe8fe",
   "metadata": {},
   "outputs": [],
   "source": [
    "import time\n",
    "import serial\n",
    "from  GPS_VK2828U7G5LF import init_gps_GPRMC,read_gps,read_velocity"
   ]
  },
  {
   "cell_type": "code",
   "execution_count": 3,
   "id": "11728c5c",
   "metadata": {},
   "outputs": [],
   "source": [
    "init_gps_GPRMC()"
   ]
  },
  {
   "cell_type": "code",
   "execution_count": 4,
   "id": "2909a4fc",
   "metadata": {},
   "outputs": [
    {
     "name": "stdout",
     "output_type": "stream",
     "text": [
      "GPS:0\n",
      "\n"
     ]
    }
   ],
   "source": [
    "print(\"GPS:{}\\n\".format(read_gps()))"
   ]
  },
  {
   "cell_type": "markdown",
   "id": "1778ea46",
   "metadata": {},
   "source": [
    "# Cyber_mind"
   ]
  },
  {
   "cell_type": "code",
   "execution_count": 2,
   "id": "64cf8c67",
   "metadata": {},
   "outputs": [],
   "source": [
    "import os\n",
    "import time\n",
    "from  GPS_VK2828U7G5LF import init_gps_GPRMC,read_gps\n",
    "from mpu6050 import mpu6050\n",
    "import ADS1115\n",
    "import board\n",
    "import busio\n",
    "import Jetson.GPIO as GPIO\n",
    "import sys\n",
    "import cv2\n",
    "from IPython import display\n",
    "\n",
    "sys.path.append('/opt/nvidia/jetson-gpio/lib/python')\n",
    "sys.path.append('/opt/nvidia/jetson-gpio/lib/python/Jetson/GPIO')\n",
    "\n",
    "from pca9685_driver import Device"
   ]
  },
  {
   "cell_type": "code",
   "execution_count": null,
   "id": "98d2c155",
   "metadata": {
    "scrolled": false
   },
   "outputs": [
    {
     "name": "stdout",
     "output_type": "stream",
     "text": [
      "GPS:0\n",
      "\n",
      "imu\n",
      "aceleracao longitudinal instantanea : -0.316 m/s^2\n",
      "\n",
      "aceleracao longitudinal maxima: 3.287 m/s^2\n",
      "\n",
      "desaceleração longitudinal maxima: -3.874 m/s^2\n",
      "\n",
      "Tensão da bateria: 7.125 V\n",
      "\n",
      "Corrente do motor: 0.0605 A\n",
      "\n",
      "Corrente do computador: 1.313 A\n",
      "\n",
      "Controle lateral: 300\n",
      "\n",
      "Controle longitudinal: 330\n",
      "\n",
      "cam FPS: 21.0\n",
      " \n",
      "cam ret: True\n",
      " \n",
      "tempo de leitura dos sensores: 0.094 s\n",
      "\n"
     ]
    }
   ],
   "source": [
    "servo = Device(0x40,1)\n",
    "\n",
    "init_gps_GPRMC()\n",
    "imu = mpu6050(0x68)\n",
    "\n",
    "aceleracao_max = 0\n",
    "desaceleracao_max = 0\n",
    "\n",
    "ads = ADS1115.ADS1115()\n",
    "\n",
    "gstreamer = 'nvarguscamerasrc ! video/x-raw(memory:NVMM), width=3280, height=2464, format=NV12, framerate=21/1 ! nvvidconv flip-method=0 ! video/x-raw, width=640, height=480, format=BGRx ! videoconvert ! video/x-raw, format=BGR ! appsink'\n",
    "\n",
    "cam = cv2.VideoCapture(gstreamer)\n",
    "\n",
    "while True:\n",
    "    start = time.time()\n",
    "    print(\"GPS:{}\\n\".format(read_gps()))\n",
    "    print(\"imu\")\n",
    "    aceleracao_data = imu.get_accel_data()\n",
    "    aceleracao_instantanea = aceleracao_data['y']\n",
    "    print(\"aceleracao longitudinal instantanea : {:.3f} m/s^2\\n\".format(aceleracao_instantanea))\n",
    "    if aceleracao_data['y']>aceleracao_max:\n",
    "        aceleracao_max = aceleracao_data['y']\n",
    "    print(\"aceleracao longitudinal maxima: {:.3f} m/s^2\\n\".format(aceleracao_max))\n",
    "    if aceleracao_data['y']<desaceleracao_max:\n",
    "        desaceleracao_max = aceleracao_data['y']\n",
    "    print(\"desaceleração longitudinal maxima: {:.3f} m/s^2\\n\".format(desaceleracao_max))\n",
    "    volt0 = 3*(ads.readADCSingleEnded()/1000)\n",
    "    volt1 = (((ads.readADCSingleEnded(1)/1000)/0.185)-7.07415)*1.8\n",
    "    volt2 = (((ads.readADCSingleEnded(2)/1000)/0.185)-7.1175)*2.115\n",
    "    print(\"Tensão da bateria: {:.3f} V\\n\".format(volt0))\n",
    "    print(\"Corrente do motor: {:.3} A\\n\".format(volt1))\n",
    "    print(\"Corrente do computador: {:.3f} A\\n\".format(volt2))\n",
    "    lateral = servo.get_pwm(0)\n",
    "    longitudinal = servo.get_pwm(1)\n",
    "    print(\"Controle lateral: {}\\n\".format(lateral))\n",
    "    print(\"Controle longitudinal: {}\\n\".format(longitudinal))\n",
    "\n",
    "    ret,frame = cam.read()\n",
    "    #cv2.imshow('cam',frame)\n",
    "    print(\"cam FPS: {}\\n \".format(cam.get(cv2.CAP_PROP_FPS)))\n",
    "    print(\"cam ret: {}\\n \".format(ret))\n",
    "    if cv2.waitKey(1) == ord('q'):\n",
    "        break\n",
    "    print(\"tempo de leitura dos sensores: {:0.3f} s\\n\".format(time.time()-start))\n",
    "    time.sleep(0.5)\n",
    "    #os.system(\"clear\")#terminal\n",
    "    display.clear_output(wait=True)#jupyter\n",
    "\n",
    "cam.release()\n",
    "cv2.destroyAllWindows()"
   ]
  },
  {
   "cell_type": "markdown",
   "id": "e82f037e",
   "metadata": {},
   "source": [
    "# OLED 128x64"
   ]
  },
  {
   "cell_type": "code",
   "execution_count": 50,
   "id": "61ef3117",
   "metadata": {},
   "outputs": [],
   "source": [
    "from luma.core.interface.serial import i2c, spi, pcf8574\n",
    "from luma.core.interface.parallel import bitbang_6800\n",
    "from luma.core.render import canvas\n",
    "from luma.oled.device import ssd1306, ssd1309, ssd1325, ssd1331, sh1106, ws0010"
   ]
  },
  {
   "cell_type": "code",
   "execution_count": 51,
   "id": "e14fda19",
   "metadata": {},
   "outputs": [],
   "source": [
    "# rev.1 users set port=0\n",
    "# substitute spi(device=0, port=0) below if using that interface\n",
    "# substitute bitbang_6800(RS=7, E=8, PINS=[25,24,23,27]) below if using that interface\n",
    "serial = i2c(port=1, address=0x3C)\n",
    "\n",
    "# substitute ssd1331(...) or sh1106(...) below if using that device\n",
    "device = ssd1306(serial)"
   ]
  },
  {
   "cell_type": "code",
   "execution_count": 52,
   "id": "3ba8d13a",
   "metadata": {},
   "outputs": [],
   "source": [
    "with canvas(device) as draw:\n",
    "    draw.rectangle(device.bounding_box, outline=\"white\", fill=\"black\")\n",
    "    draw.text((30, 40), \"Hello World\", fill=\"white\")"
   ]
  },
  {
   "cell_type": "markdown",
   "id": "055bfbaf",
   "metadata": {},
   "source": [
    "# Camera live"
   ]
  },
  {
   "cell_type": "code",
   "execution_count": 47,
   "id": "6fa0965c",
   "metadata": {},
   "outputs": [],
   "source": [
    "import numpy as np\n",
    "import cv2\n",
    "from IPython import display\n",
    "from PIL import Image\n",
    "import matplotlib.pyplot as py"
   ]
  },
  {
   "cell_type": "code",
   "execution_count": 48,
   "id": "0f617ef2",
   "metadata": {
    "scrolled": false
   },
   "outputs": [
    {
     "name": "stdout",
     "output_type": "stream",
     "text": [
      "Released Video Resource from KeyboardInterrupt\n"
     ]
    }
   ],
   "source": [
    "def showVideo():\n",
    "    try:\n",
    "        cap = cv2.VideoCapture('nvarguscamerasrc ! video/x-raw(memory:NVMM), width=3280, height=2464, format=NV12, framerate=21/1 ! nvvidconv flip-method=0 ! video/x-raw, width=640, height=480, format=BGRx ! videoconvert ! video/x-raw, format=BGR ! appsink')\n",
    "    except:\n",
    "        print(\"Cannot Open Device\")\n",
    "    try:\n",
    "        ret, frame = cap.read()\n",
    "        \n",
    "        while(ret==True):\n",
    "            ret, frame = cap.read()\n",
    "            \n",
    "            if not ret:\n",
    "                cap.release()\n",
    "                print (\"Released Video Resource\")\n",
    "                break\n",
    "                \n",
    "            _,ret_array = cv2.imencode('.jpg', frame) \n",
    "            i = display.Image(data=ret_array)\n",
    "            display.display(i)\n",
    "            display.clear_output(wait=True)\n",
    "            \n",
    "    except KeyboardInterrupt:\n",
    "        cap.release()\n",
    "        print(\"Released Video Resource from KeyboardInterrupt\")\n",
    "    pass\n",
    "showVideo()"
   ]
  },
  {
   "cell_type": "markdown",
   "id": "9daf698c",
   "metadata": {},
   "source": [
    "# Camera shot"
   ]
  },
  {
   "cell_type": "code",
   "execution_count": 4,
   "id": "9caff4db",
   "metadata": {},
   "outputs": [],
   "source": [
    "import cv2\n",
    "import numpy as np\n",
    "from IPython import display"
   ]
  },
  {
   "cell_type": "code",
   "execution_count": 49,
   "id": "35087aa4",
   "metadata": {
    "scrolled": false
   },
   "outputs": [
    {
     "data": {
      "image/png": "[encoded data removed]",
      "text/plain": [
       "<IPython.core.display.Image object>"
      ]
     },
     "metadata": {},
     "output_type": "display_data"
    },
    {
     "name": "stdout",
     "output_type": "stream",
     "text": [
      "finish\n"
     ]
    }
   ],
   "source": [
    "def cap_video(video_index):\n",
    "    try:\n",
    "        cap = cv2.VideoCapture(video_index)\n",
    "    except:\n",
    "        print(\"Cannot Open Device\")\n",
    "    ret, frame = cap.read()\n",
    "    while not ret:\n",
    "        ret, frame = cap.read()\n",
    "    _,ret_array = cv2.imencode('.jpg', frame) \n",
    "    i = display.Image(data=ret_array)        \n",
    "    display.display(i)        \n",
    "    cap.release()\n",
    "    print(\"finish\")\n",
    "    \n",
    "cap_video('nvarguscamerasrc ! video/x-raw(memory:NVMM), width=3280, height=2464, format=NV12, framerate=21/1 ! nvvidconv flip-method=0 ! video/x-raw, width=640, height=480, format=BGRx ! videoconvert ! video/x-raw, format=BGR ! appsink')"
   ]
  },
  {
   "cell_type": "markdown",
   "id": "a28cb3a9",
   "metadata": {},
   "source": [
    "# Get img"
   ]
  },
  {
   "cell_type": "code",
   "execution_count": 8,
   "id": "135edf76",
   "metadata": {},
   "outputs": [],
   "source": [
    "import cv2\n",
    "import numpy as np\n",
    "from IPython import display\n",
    "import os\n",
    "import ipywidgets as widgets"
   ]
  },
  {
   "cell_type": "code",
   "execution_count": 13,
   "id": "51bbe9e7",
   "metadata": {
    "scrolled": false
   },
   "outputs": [
    {
     "data": {
      "application/vnd.jupyter.widget-view+json": {
       "model_id": "f0e7dfeb022244e6b58809034d5d6ff4",
       "version_major": 2,
       "version_minor": 0
      },
      "text/plain": [
       "Button(description='save image pare', style=ButtonStyle())"
      ]
     },
     "metadata": {},
     "output_type": "display_data"
    },
    {
     "data": {
      "application/vnd.jupyter.widget-view+json": {
       "model_id": "344e96fd60dd490ea43bd911248bfa11",
       "version_major": 2,
       "version_minor": 0
      },
      "text/plain": [
       "Output()"
      ]
     },
     "metadata": {},
     "output_type": "display_data"
    }
   ],
   "source": [
    "button = widgets.Button(description=\"save image pare\")\n",
    "output = widgets.Output()\n",
    "\n",
    "def save_image():\n",
    "    display.clear_output(wait=True)\n",
    "    try:\n",
    "        cap = cv2.VideoCapture('nvarguscamerasrc ! video/x-raw(memory:NVMM), width=3280, height=2464, format=NV12, framerate=21/1 ! nvvidconv flip-method=0 ! video/x-raw, width=640, height=480, format=BGRx ! videoconvert ! video/x-raw, format=BGR ! appsink')\n",
    "        print(\"capture video\")\n",
    "    except:\n",
    "        print(\"Cannot Open Device\")\n",
    "    ret, frame = cap.read()\n",
    "    while not ret:\n",
    "        ret, frame = cap.read()\n",
    "        \n",
    "    ret, frame = cap.read()\n",
    "    print(\"frame shape\",frame.shape)\n",
    "    cap.release()\n",
    "    print(\"video released\")\n",
    "    os.chdir('/home/nano/jetson_nano/jupyter_notebook/datasets/pare/img')\n",
    "    print(os.getcwd())\n",
    "    filename = '1.jpg'\n",
    "    cv2.imwrite(filename, frame)\n",
    "    print(\"After saving image show files:\")  \n",
    "    print(os.listdir())\n",
    "    print('Successfully saved')\n",
    "    _,ret_array = cv2.imencode('.jpg', frame) \n",
    "    \n",
    "    frame = display.Image(data=ret_array)\n",
    "    display.display(frame)\n",
    "    \n",
    "\n",
    "def on_button_clicked(b):\n",
    "    with output:\n",
    "        save_image()\n",
    "        print(\"finished\")       \n",
    "\n",
    "button.on_click(on_button_clicked)\n",
    "display.display(button,output)"
   ]
  },
  {
   "cell_type": "markdown",
   "id": "40c7c527",
   "metadata": {},
   "source": [
    "# Widget button"
   ]
  },
  {
   "cell_type": "code",
   "execution_count": 42,
   "id": "9d16efcd",
   "metadata": {
    "scrolled": true
   },
   "outputs": [
    {
     "data": {
      "application/vnd.jupyter.widget-view+json": {
       "model_id": "1efc83be2aaf4dbb88a33bb9fc9ec62f",
       "version_major": 2,
       "version_minor": 0
      },
      "text/plain": [
       "Button(description='Click Me!', style=ButtonStyle())"
      ]
     },
     "metadata": {},
     "output_type": "display_data"
    },
    {
     "data": {
      "application/vnd.jupyter.widget-view+json": {
       "model_id": "03e325508bc6413d986a2fd949c53394",
       "version_major": 2,
       "version_minor": 0
      },
      "text/plain": [
       "Output()"
      ]
     },
     "metadata": {},
     "output_type": "display_data"
    }
   ],
   "source": [
    "from IPython.display import display\n",
    "button = widgets.Button(description=\"Click Me!\")\n",
    "output = widgets.Output()\n",
    "\n",
    "display(button, output)\n",
    "\n",
    "def on_button_clicked(b):\n",
    "    with output:\n",
    "        print(\"Button clicked.\")\n",
    "\n",
    "button.on_click(on_button_clicked)"
   ]
  },
  {
   "cell_type": "markdown",
   "id": "ec615852",
   "metadata": {},
   "source": [
    "# OS manipulation"
   ]
  },
  {
   "cell_type": "code",
   "execution_count": 53,
   "id": "19212bd0",
   "metadata": {},
   "outputs": [],
   "source": [
    "import os"
   ]
  },
  {
   "cell_type": "code",
   "execution_count": 54,
   "id": "fc29cfc6",
   "metadata": {},
   "outputs": [
    {
     "name": "stdout",
     "output_type": "stream",
     "text": [
      "/home/nano/jetson_nano/jupyter_notebook/datasets/pare/img\n",
      "/home/nano/jetson_nano/jupyter_notebook/datasets/pare/img\n",
      "['1.jpg']\n"
     ]
    }
   ],
   "source": [
    "print(os.getcwd())\n",
    "os.chdir('/home/nano/jetson_nano/jupyter_notebook/datasets/pare/img')\n",
    "print(os.getcwd())\n",
    "print(os.listdir())\n",
    "if os.path.isdir('dir') == True:\n",
    "    os.rmdir('dir')\n",
    "if os.path.isdir('dir1/dir2') == True:\n",
    "    os.removedirs('dir1/dir2')\n",
    "#os.mkdir('dir')\n",
    "#os.makedirs('dir1/dir2')"
   ]
  },
  {
   "cell_type": "markdown",
   "id": "53c5aab0",
   "metadata": {},
   "source": [
    "# Check data"
   ]
  },
  {
   "cell_type": "code",
   "execution_count": 58,
   "id": "7d2967ba",
   "metadata": {},
   "outputs": [],
   "source": [
    "import os"
   ]
  },
  {
   "cell_type": "code",
   "execution_count": 67,
   "id": "8a1daac6",
   "metadata": {},
   "outputs": [
    {
     "name": "stdout",
     "output_type": "stream",
     "text": [
      "/home/nano/jetson_nano/jupyter_notebook/datasets/pare/img\n",
      "/home/nano/jetson_nano/jupyter_notebook/datasets/pare/img\n",
      "[]\n",
      "no\n"
     ]
    }
   ],
   "source": [
    "print(os.getcwd())\n",
    "os.chdir('/home/nano/jetson_nano/jupyter_notebook/datasets/pare/img')\n",
    "print(os.getcwd())\n",
    "print(os.listdir())\n",
    "\n",
    "if os.path.exists('1.jpg'):\n",
    "    print('yes')\n",
    "else:\n",
    "    print('no')"
   ]
  },
  {
   "cell_type": "markdown",
   "id": "52b9e914",
   "metadata": {},
   "source": [
    "# Get 'pare' data"
   ]
  },
  {
   "cell_type": "code",
   "execution_count": 68,
   "id": "15c01656",
   "metadata": {},
   "outputs": [],
   "source": [
    "import ipywidgets as widgets"
   ]
  },
  {
   "cell_type": "code",
   "execution_count": 70,
   "id": "a463d14a",
   "metadata": {},
   "outputs": [],
   "source": [
    "yes_button = widgets.Button(description='yes')\n",
    "no_button = widgets.Button(dscription='no')\n",
    "\n",
    "out = widgets.Output()"
   ]
  },
  {
   "cell_type": "code",
   "execution_count": null,
   "id": "50bfb3a7",
   "metadata": {},
   "outputs": [],
   "source": [
    "count = [0]\n",
    "\n",
    "def yes_button_cliked(_, incr=1):\n",
    "    with out:\n",
    "        count[0] += incr\n",
    "        samp_text = str(incr) + 'count' + str(count)\n",
    "        "
   ]
  }
 ],
 "metadata": {
  "kernelspec": {
   "display_name": "Python 3",
   "language": "python",
   "name": "python3"
  },
  "language_info": {
   "codemirror_mode": {
    "name": "ipython",
    "version": 3
   },
   "file_extension": ".py",
   "mimetype": "text/x-python",
   "name": "python",
   "nbconvert_exporter": "python",
   "pygments_lexer": "ipython3",
   "version": "3.6.9"
  }
 },
 "nbformat": 4,
 "nbformat_minor": 5
}
